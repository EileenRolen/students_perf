{
 "cells": [
  {
   "cell_type": "markdown",
   "id": "0c98e13e",
   "metadata": {},
   "source": [
    "# Importing Libraries"
   ]
  },
  {
   "cell_type": "code",
   "execution_count": 1,
   "id": "a1b212aa",
   "metadata": {},
   "outputs": [],
   "source": [
    "#importing essential libraries\n",
    "import numpy as np\n",
    "import pandas as pd\n",
    "import matplotlib.pyplot as plt\n",
    "import seaborn as sns"
   ]
  },
  {
   "cell_type": "code",
   "execution_count": 2,
   "id": "b4886e37",
   "metadata": {},
   "outputs": [],
   "source": [
    "#read the dataset\n",
    "dataset = pd.read_csv(\"student-por.csv\")"
   ]
  },
  {
   "cell_type": "code",
   "execution_count": 3,
   "id": "fbe102db",
   "metadata": {},
   "outputs": [
    {
     "data": {
      "text/html": [
       "<div>\n",
       "<style scoped>\n",
       "    .dataframe tbody tr th:only-of-type {\n",
       "        vertical-align: middle;\n",
       "    }\n",
       "\n",
       "    .dataframe tbody tr th {\n",
       "        vertical-align: top;\n",
       "    }\n",
       "\n",
       "    .dataframe thead th {\n",
       "        text-align: right;\n",
       "    }\n",
       "</style>\n",
       "<table border=\"1\" class=\"dataframe\">\n",
       "  <thead>\n",
       "    <tr style=\"text-align: right;\">\n",
       "      <th></th>\n",
       "      <th>school</th>\n",
       "      <th>sex</th>\n",
       "      <th>age</th>\n",
       "      <th>address</th>\n",
       "      <th>famsize</th>\n",
       "      <th>Pstatus</th>\n",
       "      <th>Medu</th>\n",
       "      <th>Fedu</th>\n",
       "      <th>Mjob</th>\n",
       "      <th>Fjob</th>\n",
       "      <th>...</th>\n",
       "      <th>famrel</th>\n",
       "      <th>freetime</th>\n",
       "      <th>goout</th>\n",
       "      <th>Dalc</th>\n",
       "      <th>Walc</th>\n",
       "      <th>health</th>\n",
       "      <th>absences</th>\n",
       "      <th>G1</th>\n",
       "      <th>G2</th>\n",
       "      <th>G3</th>\n",
       "    </tr>\n",
       "  </thead>\n",
       "  <tbody>\n",
       "    <tr>\n",
       "      <th>0</th>\n",
       "      <td>GP</td>\n",
       "      <td>F</td>\n",
       "      <td>18</td>\n",
       "      <td>U</td>\n",
       "      <td>GT3</td>\n",
       "      <td>A</td>\n",
       "      <td>4</td>\n",
       "      <td>4</td>\n",
       "      <td>at_home</td>\n",
       "      <td>teacher</td>\n",
       "      <td>...</td>\n",
       "      <td>4</td>\n",
       "      <td>3</td>\n",
       "      <td>4</td>\n",
       "      <td>1</td>\n",
       "      <td>1</td>\n",
       "      <td>3</td>\n",
       "      <td>4</td>\n",
       "      <td>0</td>\n",
       "      <td>11</td>\n",
       "      <td>11</td>\n",
       "    </tr>\n",
       "    <tr>\n",
       "      <th>1</th>\n",
       "      <td>GP</td>\n",
       "      <td>F</td>\n",
       "      <td>17</td>\n",
       "      <td>U</td>\n",
       "      <td>GT3</td>\n",
       "      <td>T</td>\n",
       "      <td>1</td>\n",
       "      <td>1</td>\n",
       "      <td>at_home</td>\n",
       "      <td>other</td>\n",
       "      <td>...</td>\n",
       "      <td>5</td>\n",
       "      <td>3</td>\n",
       "      <td>3</td>\n",
       "      <td>1</td>\n",
       "      <td>1</td>\n",
       "      <td>3</td>\n",
       "      <td>2</td>\n",
       "      <td>9</td>\n",
       "      <td>11</td>\n",
       "      <td>11</td>\n",
       "    </tr>\n",
       "    <tr>\n",
       "      <th>2</th>\n",
       "      <td>GP</td>\n",
       "      <td>F</td>\n",
       "      <td>15</td>\n",
       "      <td>U</td>\n",
       "      <td>LE3</td>\n",
       "      <td>T</td>\n",
       "      <td>1</td>\n",
       "      <td>1</td>\n",
       "      <td>at_home</td>\n",
       "      <td>other</td>\n",
       "      <td>...</td>\n",
       "      <td>4</td>\n",
       "      <td>3</td>\n",
       "      <td>2</td>\n",
       "      <td>2</td>\n",
       "      <td>3</td>\n",
       "      <td>3</td>\n",
       "      <td>6</td>\n",
       "      <td>12</td>\n",
       "      <td>13</td>\n",
       "      <td>12</td>\n",
       "    </tr>\n",
       "    <tr>\n",
       "      <th>3</th>\n",
       "      <td>GP</td>\n",
       "      <td>F</td>\n",
       "      <td>15</td>\n",
       "      <td>U</td>\n",
       "      <td>GT3</td>\n",
       "      <td>T</td>\n",
       "      <td>4</td>\n",
       "      <td>2</td>\n",
       "      <td>health</td>\n",
       "      <td>services</td>\n",
       "      <td>...</td>\n",
       "      <td>3</td>\n",
       "      <td>2</td>\n",
       "      <td>2</td>\n",
       "      <td>1</td>\n",
       "      <td>1</td>\n",
       "      <td>5</td>\n",
       "      <td>0</td>\n",
       "      <td>14</td>\n",
       "      <td>14</td>\n",
       "      <td>14</td>\n",
       "    </tr>\n",
       "    <tr>\n",
       "      <th>4</th>\n",
       "      <td>GP</td>\n",
       "      <td>F</td>\n",
       "      <td>16</td>\n",
       "      <td>U</td>\n",
       "      <td>GT3</td>\n",
       "      <td>T</td>\n",
       "      <td>3</td>\n",
       "      <td>3</td>\n",
       "      <td>other</td>\n",
       "      <td>other</td>\n",
       "      <td>...</td>\n",
       "      <td>4</td>\n",
       "      <td>3</td>\n",
       "      <td>2</td>\n",
       "      <td>1</td>\n",
       "      <td>2</td>\n",
       "      <td>5</td>\n",
       "      <td>0</td>\n",
       "      <td>11</td>\n",
       "      <td>13</td>\n",
       "      <td>13</td>\n",
       "    </tr>\n",
       "  </tbody>\n",
       "</table>\n",
       "<p>5 rows × 33 columns</p>\n",
       "</div>"
      ],
      "text/plain": [
       "  school sex  age address famsize Pstatus  Medu  Fedu     Mjob      Fjob  ...  \\\n",
       "0     GP   F   18       U     GT3       A     4     4  at_home   teacher  ...   \n",
       "1     GP   F   17       U     GT3       T     1     1  at_home     other  ...   \n",
       "2     GP   F   15       U     LE3       T     1     1  at_home     other  ...   \n",
       "3     GP   F   15       U     GT3       T     4     2   health  services  ...   \n",
       "4     GP   F   16       U     GT3       T     3     3    other     other  ...   \n",
       "\n",
       "  famrel freetime  goout  Dalc  Walc health absences  G1  G2  G3  \n",
       "0      4        3      4     1     1      3        4   0  11  11  \n",
       "1      5        3      3     1     1      3        2   9  11  11  \n",
       "2      4        3      2     2     3      3        6  12  13  12  \n",
       "3      3        2      2     1     1      5        0  14  14  14  \n",
       "4      4        3      2     1     2      5        0  11  13  13  \n",
       "\n",
       "[5 rows x 33 columns]"
      ]
     },
     "execution_count": 3,
     "metadata": {},
     "output_type": "execute_result"
    }
   ],
   "source": [
    "#viewing first five rows\n",
    "dataset.head()"
   ]
  },
  {
   "cell_type": "code",
   "execution_count": 4,
   "id": "e63e2c77",
   "metadata": {},
   "outputs": [
    {
     "data": {
      "text/plain": [
       "(649, 33)"
      ]
     },
     "execution_count": 4,
     "metadata": {},
     "output_type": "execute_result"
    }
   ],
   "source": [
    "#no. of rows and columns\n",
    "dataset.shape"
   ]
  },
  {
   "cell_type": "code",
   "execution_count": 5,
   "id": "1f63098f",
   "metadata": {},
   "outputs": [
    {
     "data": {
      "text/plain": [
       "school        0\n",
       "sex           0\n",
       "age           0\n",
       "address       0\n",
       "famsize       0\n",
       "Pstatus       0\n",
       "Medu          0\n",
       "Fedu          0\n",
       "Mjob          0\n",
       "Fjob          0\n",
       "reason        0\n",
       "guardian      0\n",
       "traveltime    0\n",
       "studytime     0\n",
       "failures      0\n",
       "schoolsup     0\n",
       "famsup        0\n",
       "paid          0\n",
       "activities    0\n",
       "nursery       0\n",
       "higher        0\n",
       "internet      0\n",
       "romantic      0\n",
       "famrel        0\n",
       "freetime      0\n",
       "goout         0\n",
       "Dalc          0\n",
       "Walc          0\n",
       "health        0\n",
       "absences      0\n",
       "G1            0\n",
       "G2            0\n",
       "G3            0\n",
       "dtype: int64"
      ]
     },
     "execution_count": 5,
     "metadata": {},
     "output_type": "execute_result"
    }
   ],
   "source": [
    "#checking for null values\n",
    "dataset.isnull().sum()"
   ]
  },
  {
   "cell_type": "code",
   "execution_count": 6,
   "id": "2216db64",
   "metadata": {},
   "outputs": [
    {
     "data": {
      "text/plain": [
       "school         2\n",
       "sex            2\n",
       "age            8\n",
       "address        2\n",
       "famsize        2\n",
       "Pstatus        2\n",
       "Medu           5\n",
       "Fedu           5\n",
       "Mjob           5\n",
       "Fjob           5\n",
       "reason         4\n",
       "guardian       3\n",
       "traveltime     4\n",
       "studytime      4\n",
       "failures       4\n",
       "schoolsup      2\n",
       "famsup         2\n",
       "paid           2\n",
       "activities     2\n",
       "nursery        2\n",
       "higher         2\n",
       "internet       2\n",
       "romantic       2\n",
       "famrel         5\n",
       "freetime       5\n",
       "goout          5\n",
       "Dalc           5\n",
       "Walc           5\n",
       "health         5\n",
       "absences      24\n",
       "G1            17\n",
       "G2            16\n",
       "G3            17\n",
       "dtype: int64"
      ]
     },
     "execution_count": 6,
     "metadata": {},
     "output_type": "execute_result"
    }
   ],
   "source": [
    "dataset.nunique()"
   ]
  },
  {
   "cell_type": "code",
   "execution_count": 7,
   "id": "4cd3042b",
   "metadata": {},
   "outputs": [
    {
     "data": {
      "text/html": [
       "<div>\n",
       "<style scoped>\n",
       "    .dataframe tbody tr th:only-of-type {\n",
       "        vertical-align: middle;\n",
       "    }\n",
       "\n",
       "    .dataframe tbody tr th {\n",
       "        vertical-align: top;\n",
       "    }\n",
       "\n",
       "    .dataframe thead th {\n",
       "        text-align: right;\n",
       "    }\n",
       "</style>\n",
       "<table border=\"1\" class=\"dataframe\">\n",
       "  <thead>\n",
       "    <tr style=\"text-align: right;\">\n",
       "      <th></th>\n",
       "      <th>age</th>\n",
       "      <th>Medu</th>\n",
       "      <th>Fedu</th>\n",
       "      <th>traveltime</th>\n",
       "      <th>studytime</th>\n",
       "      <th>failures</th>\n",
       "      <th>famrel</th>\n",
       "      <th>freetime</th>\n",
       "      <th>goout</th>\n",
       "      <th>Dalc</th>\n",
       "      <th>Walc</th>\n",
       "      <th>health</th>\n",
       "      <th>absences</th>\n",
       "      <th>G1</th>\n",
       "      <th>G2</th>\n",
       "      <th>G3</th>\n",
       "    </tr>\n",
       "  </thead>\n",
       "  <tbody>\n",
       "    <tr>\n",
       "      <th>count</th>\n",
       "      <td>649.000000</td>\n",
       "      <td>649.000000</td>\n",
       "      <td>649.000000</td>\n",
       "      <td>649.000000</td>\n",
       "      <td>649.000000</td>\n",
       "      <td>649.000000</td>\n",
       "      <td>649.000000</td>\n",
       "      <td>649.000000</td>\n",
       "      <td>649.000000</td>\n",
       "      <td>649.000000</td>\n",
       "      <td>649.000000</td>\n",
       "      <td>649.000000</td>\n",
       "      <td>649.000000</td>\n",
       "      <td>649.000000</td>\n",
       "      <td>649.000000</td>\n",
       "      <td>649.000000</td>\n",
       "    </tr>\n",
       "    <tr>\n",
       "      <th>mean</th>\n",
       "      <td>16.744222</td>\n",
       "      <td>2.514638</td>\n",
       "      <td>2.306626</td>\n",
       "      <td>1.568567</td>\n",
       "      <td>1.930663</td>\n",
       "      <td>0.221880</td>\n",
       "      <td>3.930663</td>\n",
       "      <td>3.180277</td>\n",
       "      <td>3.184900</td>\n",
       "      <td>1.502311</td>\n",
       "      <td>2.280431</td>\n",
       "      <td>3.536210</td>\n",
       "      <td>3.659476</td>\n",
       "      <td>11.399076</td>\n",
       "      <td>11.570108</td>\n",
       "      <td>11.906009</td>\n",
       "    </tr>\n",
       "    <tr>\n",
       "      <th>std</th>\n",
       "      <td>1.218138</td>\n",
       "      <td>1.134552</td>\n",
       "      <td>1.099931</td>\n",
       "      <td>0.748660</td>\n",
       "      <td>0.829510</td>\n",
       "      <td>0.593235</td>\n",
       "      <td>0.955717</td>\n",
       "      <td>1.051093</td>\n",
       "      <td>1.175766</td>\n",
       "      <td>0.924834</td>\n",
       "      <td>1.284380</td>\n",
       "      <td>1.446259</td>\n",
       "      <td>4.640759</td>\n",
       "      <td>2.745265</td>\n",
       "      <td>2.913639</td>\n",
       "      <td>3.230656</td>\n",
       "    </tr>\n",
       "    <tr>\n",
       "      <th>min</th>\n",
       "      <td>15.000000</td>\n",
       "      <td>0.000000</td>\n",
       "      <td>0.000000</td>\n",
       "      <td>1.000000</td>\n",
       "      <td>1.000000</td>\n",
       "      <td>0.000000</td>\n",
       "      <td>1.000000</td>\n",
       "      <td>1.000000</td>\n",
       "      <td>1.000000</td>\n",
       "      <td>1.000000</td>\n",
       "      <td>1.000000</td>\n",
       "      <td>1.000000</td>\n",
       "      <td>0.000000</td>\n",
       "      <td>0.000000</td>\n",
       "      <td>0.000000</td>\n",
       "      <td>0.000000</td>\n",
       "    </tr>\n",
       "    <tr>\n",
       "      <th>25%</th>\n",
       "      <td>16.000000</td>\n",
       "      <td>2.000000</td>\n",
       "      <td>1.000000</td>\n",
       "      <td>1.000000</td>\n",
       "      <td>1.000000</td>\n",
       "      <td>0.000000</td>\n",
       "      <td>4.000000</td>\n",
       "      <td>3.000000</td>\n",
       "      <td>2.000000</td>\n",
       "      <td>1.000000</td>\n",
       "      <td>1.000000</td>\n",
       "      <td>2.000000</td>\n",
       "      <td>0.000000</td>\n",
       "      <td>10.000000</td>\n",
       "      <td>10.000000</td>\n",
       "      <td>10.000000</td>\n",
       "    </tr>\n",
       "    <tr>\n",
       "      <th>50%</th>\n",
       "      <td>17.000000</td>\n",
       "      <td>2.000000</td>\n",
       "      <td>2.000000</td>\n",
       "      <td>1.000000</td>\n",
       "      <td>2.000000</td>\n",
       "      <td>0.000000</td>\n",
       "      <td>4.000000</td>\n",
       "      <td>3.000000</td>\n",
       "      <td>3.000000</td>\n",
       "      <td>1.000000</td>\n",
       "      <td>2.000000</td>\n",
       "      <td>4.000000</td>\n",
       "      <td>2.000000</td>\n",
       "      <td>11.000000</td>\n",
       "      <td>11.000000</td>\n",
       "      <td>12.000000</td>\n",
       "    </tr>\n",
       "    <tr>\n",
       "      <th>75%</th>\n",
       "      <td>18.000000</td>\n",
       "      <td>4.000000</td>\n",
       "      <td>3.000000</td>\n",
       "      <td>2.000000</td>\n",
       "      <td>2.000000</td>\n",
       "      <td>0.000000</td>\n",
       "      <td>5.000000</td>\n",
       "      <td>4.000000</td>\n",
       "      <td>4.000000</td>\n",
       "      <td>2.000000</td>\n",
       "      <td>3.000000</td>\n",
       "      <td>5.000000</td>\n",
       "      <td>6.000000</td>\n",
       "      <td>13.000000</td>\n",
       "      <td>13.000000</td>\n",
       "      <td>14.000000</td>\n",
       "    </tr>\n",
       "    <tr>\n",
       "      <th>max</th>\n",
       "      <td>22.000000</td>\n",
       "      <td>4.000000</td>\n",
       "      <td>4.000000</td>\n",
       "      <td>4.000000</td>\n",
       "      <td>4.000000</td>\n",
       "      <td>3.000000</td>\n",
       "      <td>5.000000</td>\n",
       "      <td>5.000000</td>\n",
       "      <td>5.000000</td>\n",
       "      <td>5.000000</td>\n",
       "      <td>5.000000</td>\n",
       "      <td>5.000000</td>\n",
       "      <td>32.000000</td>\n",
       "      <td>19.000000</td>\n",
       "      <td>19.000000</td>\n",
       "      <td>19.000000</td>\n",
       "    </tr>\n",
       "  </tbody>\n",
       "</table>\n",
       "</div>"
      ],
      "text/plain": [
       "              age        Medu        Fedu  traveltime   studytime    failures  \\\n",
       "count  649.000000  649.000000  649.000000  649.000000  649.000000  649.000000   \n",
       "mean    16.744222    2.514638    2.306626    1.568567    1.930663    0.221880   \n",
       "std      1.218138    1.134552    1.099931    0.748660    0.829510    0.593235   \n",
       "min     15.000000    0.000000    0.000000    1.000000    1.000000    0.000000   \n",
       "25%     16.000000    2.000000    1.000000    1.000000    1.000000    0.000000   \n",
       "50%     17.000000    2.000000    2.000000    1.000000    2.000000    0.000000   \n",
       "75%     18.000000    4.000000    3.000000    2.000000    2.000000    0.000000   \n",
       "max     22.000000    4.000000    4.000000    4.000000    4.000000    3.000000   \n",
       "\n",
       "           famrel    freetime       goout        Dalc        Walc      health  \\\n",
       "count  649.000000  649.000000  649.000000  649.000000  649.000000  649.000000   \n",
       "mean     3.930663    3.180277    3.184900    1.502311    2.280431    3.536210   \n",
       "std      0.955717    1.051093    1.175766    0.924834    1.284380    1.446259   \n",
       "min      1.000000    1.000000    1.000000    1.000000    1.000000    1.000000   \n",
       "25%      4.000000    3.000000    2.000000    1.000000    1.000000    2.000000   \n",
       "50%      4.000000    3.000000    3.000000    1.000000    2.000000    4.000000   \n",
       "75%      5.000000    4.000000    4.000000    2.000000    3.000000    5.000000   \n",
       "max      5.000000    5.000000    5.000000    5.000000    5.000000    5.000000   \n",
       "\n",
       "         absences          G1          G2          G3  \n",
       "count  649.000000  649.000000  649.000000  649.000000  \n",
       "mean     3.659476   11.399076   11.570108   11.906009  \n",
       "std      4.640759    2.745265    2.913639    3.230656  \n",
       "min      0.000000    0.000000    0.000000    0.000000  \n",
       "25%      0.000000   10.000000   10.000000   10.000000  \n",
       "50%      2.000000   11.000000   11.000000   12.000000  \n",
       "75%      6.000000   13.000000   13.000000   14.000000  \n",
       "max     32.000000   19.000000   19.000000   19.000000  "
      ]
     },
     "execution_count": 7,
     "metadata": {},
     "output_type": "execute_result"
    }
   ],
   "source": [
    "dataset.describe()"
   ]
  },
  {
   "cell_type": "code",
   "execution_count": 8,
   "id": "2f924b6d",
   "metadata": {},
   "outputs": [
    {
     "name": "stdout",
     "output_type": "stream",
     "text": [
      "<class 'pandas.core.frame.DataFrame'>\n",
      "RangeIndex: 649 entries, 0 to 648\n",
      "Data columns (total 33 columns):\n",
      " #   Column      Non-Null Count  Dtype \n",
      "---  ------      --------------  ----- \n",
      " 0   school      649 non-null    object\n",
      " 1   sex         649 non-null    object\n",
      " 2   age         649 non-null    int64 \n",
      " 3   address     649 non-null    object\n",
      " 4   famsize     649 non-null    object\n",
      " 5   Pstatus     649 non-null    object\n",
      " 6   Medu        649 non-null    int64 \n",
      " 7   Fedu        649 non-null    int64 \n",
      " 8   Mjob        649 non-null    object\n",
      " 9   Fjob        649 non-null    object\n",
      " 10  reason      649 non-null    object\n",
      " 11  guardian    649 non-null    object\n",
      " 12  traveltime  649 non-null    int64 \n",
      " 13  studytime   649 non-null    int64 \n",
      " 14  failures    649 non-null    int64 \n",
      " 15  schoolsup   649 non-null    object\n",
      " 16  famsup      649 non-null    object\n",
      " 17  paid        649 non-null    object\n",
      " 18  activities  649 non-null    object\n",
      " 19  nursery     649 non-null    object\n",
      " 20  higher      649 non-null    object\n",
      " 21  internet    649 non-null    object\n",
      " 22  romantic    649 non-null    object\n",
      " 23  famrel      649 non-null    int64 \n",
      " 24  freetime    649 non-null    int64 \n",
      " 25  goout       649 non-null    int64 \n",
      " 26  Dalc        649 non-null    int64 \n",
      " 27  Walc        649 non-null    int64 \n",
      " 28  health      649 non-null    int64 \n",
      " 29  absences    649 non-null    int64 \n",
      " 30  G1          649 non-null    int64 \n",
      " 31  G2          649 non-null    int64 \n",
      " 32  G3          649 non-null    int64 \n",
      "dtypes: int64(16), object(17)\n",
      "memory usage: 167.4+ KB\n"
     ]
    }
   ],
   "source": [
    "dataset.info()"
   ]
  },
  {
   "cell_type": "code",
   "execution_count": 9,
   "id": "75231f59",
   "metadata": {},
   "outputs": [
    {
     "data": {
      "text/html": [
       "<div>\n",
       "<style scoped>\n",
       "    .dataframe tbody tr th:only-of-type {\n",
       "        vertical-align: middle;\n",
       "    }\n",
       "\n",
       "    .dataframe tbody tr th {\n",
       "        vertical-align: top;\n",
       "    }\n",
       "\n",
       "    .dataframe thead th {\n",
       "        text-align: right;\n",
       "    }\n",
       "</style>\n",
       "<table border=\"1\" class=\"dataframe\">\n",
       "  <thead>\n",
       "    <tr style=\"text-align: right;\">\n",
       "      <th></th>\n",
       "      <th>age</th>\n",
       "      <th>Medu</th>\n",
       "      <th>Fedu</th>\n",
       "      <th>traveltime</th>\n",
       "      <th>studytime</th>\n",
       "      <th>failures</th>\n",
       "      <th>famrel</th>\n",
       "      <th>freetime</th>\n",
       "      <th>goout</th>\n",
       "      <th>Dalc</th>\n",
       "      <th>Walc</th>\n",
       "      <th>health</th>\n",
       "      <th>absences</th>\n",
       "      <th>G1</th>\n",
       "      <th>G2</th>\n",
       "      <th>G3</th>\n",
       "    </tr>\n",
       "  </thead>\n",
       "  <tbody>\n",
       "    <tr>\n",
       "      <th>age</th>\n",
       "      <td>1.000000</td>\n",
       "      <td>-0.107832</td>\n",
       "      <td>-0.121050</td>\n",
       "      <td>0.034490</td>\n",
       "      <td>-0.008415</td>\n",
       "      <td>0.319968</td>\n",
       "      <td>-0.020559</td>\n",
       "      <td>-0.004910</td>\n",
       "      <td>0.112805</td>\n",
       "      <td>0.134768</td>\n",
       "      <td>0.086357</td>\n",
       "      <td>-0.008750</td>\n",
       "      <td>0.149998</td>\n",
       "      <td>-0.174322</td>\n",
       "      <td>-0.107119</td>\n",
       "      <td>-0.106505</td>\n",
       "    </tr>\n",
       "    <tr>\n",
       "      <th>Medu</th>\n",
       "      <td>-0.107832</td>\n",
       "      <td>1.000000</td>\n",
       "      <td>0.647477</td>\n",
       "      <td>-0.265079</td>\n",
       "      <td>0.097006</td>\n",
       "      <td>-0.172210</td>\n",
       "      <td>0.024421</td>\n",
       "      <td>-0.019686</td>\n",
       "      <td>0.009536</td>\n",
       "      <td>-0.007018</td>\n",
       "      <td>-0.019766</td>\n",
       "      <td>0.004614</td>\n",
       "      <td>-0.008577</td>\n",
       "      <td>0.260472</td>\n",
       "      <td>0.264035</td>\n",
       "      <td>0.240151</td>\n",
       "    </tr>\n",
       "    <tr>\n",
       "      <th>Fedu</th>\n",
       "      <td>-0.121050</td>\n",
       "      <td>0.647477</td>\n",
       "      <td>1.000000</td>\n",
       "      <td>-0.208288</td>\n",
       "      <td>0.050400</td>\n",
       "      <td>-0.165915</td>\n",
       "      <td>0.020256</td>\n",
       "      <td>0.006841</td>\n",
       "      <td>0.027690</td>\n",
       "      <td>0.000061</td>\n",
       "      <td>0.038445</td>\n",
       "      <td>0.044910</td>\n",
       "      <td>0.029859</td>\n",
       "      <td>0.217501</td>\n",
       "      <td>0.225139</td>\n",
       "      <td>0.211800</td>\n",
       "    </tr>\n",
       "    <tr>\n",
       "      <th>traveltime</th>\n",
       "      <td>0.034490</td>\n",
       "      <td>-0.265079</td>\n",
       "      <td>-0.208288</td>\n",
       "      <td>1.000000</td>\n",
       "      <td>-0.063154</td>\n",
       "      <td>0.097730</td>\n",
       "      <td>-0.009521</td>\n",
       "      <td>0.000937</td>\n",
       "      <td>0.057454</td>\n",
       "      <td>0.092824</td>\n",
       "      <td>0.057007</td>\n",
       "      <td>-0.048261</td>\n",
       "      <td>-0.008149</td>\n",
       "      <td>-0.154120</td>\n",
       "      <td>-0.154489</td>\n",
       "      <td>-0.127173</td>\n",
       "    </tr>\n",
       "    <tr>\n",
       "      <th>studytime</th>\n",
       "      <td>-0.008415</td>\n",
       "      <td>0.097006</td>\n",
       "      <td>0.050400</td>\n",
       "      <td>-0.063154</td>\n",
       "      <td>1.000000</td>\n",
       "      <td>-0.147441</td>\n",
       "      <td>-0.004127</td>\n",
       "      <td>-0.068829</td>\n",
       "      <td>-0.075442</td>\n",
       "      <td>-0.137585</td>\n",
       "      <td>-0.214925</td>\n",
       "      <td>-0.056433</td>\n",
       "      <td>-0.118389</td>\n",
       "      <td>0.260875</td>\n",
       "      <td>0.240498</td>\n",
       "      <td>0.249789</td>\n",
       "    </tr>\n",
       "    <tr>\n",
       "      <th>failures</th>\n",
       "      <td>0.319968</td>\n",
       "      <td>-0.172210</td>\n",
       "      <td>-0.165915</td>\n",
       "      <td>0.097730</td>\n",
       "      <td>-0.147441</td>\n",
       "      <td>1.000000</td>\n",
       "      <td>-0.062645</td>\n",
       "      <td>0.108995</td>\n",
       "      <td>0.045078</td>\n",
       "      <td>0.105949</td>\n",
       "      <td>0.082266</td>\n",
       "      <td>0.035588</td>\n",
       "      <td>0.122779</td>\n",
       "      <td>-0.384210</td>\n",
       "      <td>-0.385782</td>\n",
       "      <td>-0.393316</td>\n",
       "    </tr>\n",
       "    <tr>\n",
       "      <th>famrel</th>\n",
       "      <td>-0.020559</td>\n",
       "      <td>0.024421</td>\n",
       "      <td>0.020256</td>\n",
       "      <td>-0.009521</td>\n",
       "      <td>-0.004127</td>\n",
       "      <td>-0.062645</td>\n",
       "      <td>1.000000</td>\n",
       "      <td>0.129216</td>\n",
       "      <td>0.089707</td>\n",
       "      <td>-0.075767</td>\n",
       "      <td>-0.093511</td>\n",
       "      <td>0.109559</td>\n",
       "      <td>-0.089534</td>\n",
       "      <td>0.048795</td>\n",
       "      <td>0.089588</td>\n",
       "      <td>0.063361</td>\n",
       "    </tr>\n",
       "    <tr>\n",
       "      <th>freetime</th>\n",
       "      <td>-0.004910</td>\n",
       "      <td>-0.019686</td>\n",
       "      <td>0.006841</td>\n",
       "      <td>0.000937</td>\n",
       "      <td>-0.068829</td>\n",
       "      <td>0.108995</td>\n",
       "      <td>0.129216</td>\n",
       "      <td>1.000000</td>\n",
       "      <td>0.346352</td>\n",
       "      <td>0.109904</td>\n",
       "      <td>0.120244</td>\n",
       "      <td>0.084526</td>\n",
       "      <td>-0.018716</td>\n",
       "      <td>-0.094497</td>\n",
       "      <td>-0.106678</td>\n",
       "      <td>-0.122705</td>\n",
       "    </tr>\n",
       "    <tr>\n",
       "      <th>goout</th>\n",
       "      <td>0.112805</td>\n",
       "      <td>0.009536</td>\n",
       "      <td>0.027690</td>\n",
       "      <td>0.057454</td>\n",
       "      <td>-0.075442</td>\n",
       "      <td>0.045078</td>\n",
       "      <td>0.089707</td>\n",
       "      <td>0.346352</td>\n",
       "      <td>1.000000</td>\n",
       "      <td>0.245126</td>\n",
       "      <td>0.388680</td>\n",
       "      <td>-0.015741</td>\n",
       "      <td>0.085374</td>\n",
       "      <td>-0.074053</td>\n",
       "      <td>-0.079469</td>\n",
       "      <td>-0.087641</td>\n",
       "    </tr>\n",
       "    <tr>\n",
       "      <th>Dalc</th>\n",
       "      <td>0.134768</td>\n",
       "      <td>-0.007018</td>\n",
       "      <td>0.000061</td>\n",
       "      <td>0.092824</td>\n",
       "      <td>-0.137585</td>\n",
       "      <td>0.105949</td>\n",
       "      <td>-0.075767</td>\n",
       "      <td>0.109904</td>\n",
       "      <td>0.245126</td>\n",
       "      <td>1.000000</td>\n",
       "      <td>0.616561</td>\n",
       "      <td>0.059067</td>\n",
       "      <td>0.172952</td>\n",
       "      <td>-0.195171</td>\n",
       "      <td>-0.189480</td>\n",
       "      <td>-0.204719</td>\n",
       "    </tr>\n",
       "    <tr>\n",
       "      <th>Walc</th>\n",
       "      <td>0.086357</td>\n",
       "      <td>-0.019766</td>\n",
       "      <td>0.038445</td>\n",
       "      <td>0.057007</td>\n",
       "      <td>-0.214925</td>\n",
       "      <td>0.082266</td>\n",
       "      <td>-0.093511</td>\n",
       "      <td>0.120244</td>\n",
       "      <td>0.388680</td>\n",
       "      <td>0.616561</td>\n",
       "      <td>1.000000</td>\n",
       "      <td>0.114988</td>\n",
       "      <td>0.156373</td>\n",
       "      <td>-0.155649</td>\n",
       "      <td>-0.164852</td>\n",
       "      <td>-0.176619</td>\n",
       "    </tr>\n",
       "    <tr>\n",
       "      <th>health</th>\n",
       "      <td>-0.008750</td>\n",
       "      <td>0.004614</td>\n",
       "      <td>0.044910</td>\n",
       "      <td>-0.048261</td>\n",
       "      <td>-0.056433</td>\n",
       "      <td>0.035588</td>\n",
       "      <td>0.109559</td>\n",
       "      <td>0.084526</td>\n",
       "      <td>-0.015741</td>\n",
       "      <td>0.059067</td>\n",
       "      <td>0.114988</td>\n",
       "      <td>1.000000</td>\n",
       "      <td>-0.030235</td>\n",
       "      <td>-0.051647</td>\n",
       "      <td>-0.082179</td>\n",
       "      <td>-0.098851</td>\n",
       "    </tr>\n",
       "    <tr>\n",
       "      <th>absences</th>\n",
       "      <td>0.149998</td>\n",
       "      <td>-0.008577</td>\n",
       "      <td>0.029859</td>\n",
       "      <td>-0.008149</td>\n",
       "      <td>-0.118389</td>\n",
       "      <td>0.122779</td>\n",
       "      <td>-0.089534</td>\n",
       "      <td>-0.018716</td>\n",
       "      <td>0.085374</td>\n",
       "      <td>0.172952</td>\n",
       "      <td>0.156373</td>\n",
       "      <td>-0.030235</td>\n",
       "      <td>1.000000</td>\n",
       "      <td>-0.147149</td>\n",
       "      <td>-0.124745</td>\n",
       "      <td>-0.091379</td>\n",
       "    </tr>\n",
       "    <tr>\n",
       "      <th>G1</th>\n",
       "      <td>-0.174322</td>\n",
       "      <td>0.260472</td>\n",
       "      <td>0.217501</td>\n",
       "      <td>-0.154120</td>\n",
       "      <td>0.260875</td>\n",
       "      <td>-0.384210</td>\n",
       "      <td>0.048795</td>\n",
       "      <td>-0.094497</td>\n",
       "      <td>-0.074053</td>\n",
       "      <td>-0.195171</td>\n",
       "      <td>-0.155649</td>\n",
       "      <td>-0.051647</td>\n",
       "      <td>-0.147149</td>\n",
       "      <td>1.000000</td>\n",
       "      <td>0.864982</td>\n",
       "      <td>0.826387</td>\n",
       "    </tr>\n",
       "    <tr>\n",
       "      <th>G2</th>\n",
       "      <td>-0.107119</td>\n",
       "      <td>0.264035</td>\n",
       "      <td>0.225139</td>\n",
       "      <td>-0.154489</td>\n",
       "      <td>0.240498</td>\n",
       "      <td>-0.385782</td>\n",
       "      <td>0.089588</td>\n",
       "      <td>-0.106678</td>\n",
       "      <td>-0.079469</td>\n",
       "      <td>-0.189480</td>\n",
       "      <td>-0.164852</td>\n",
       "      <td>-0.082179</td>\n",
       "      <td>-0.124745</td>\n",
       "      <td>0.864982</td>\n",
       "      <td>1.000000</td>\n",
       "      <td>0.918548</td>\n",
       "    </tr>\n",
       "    <tr>\n",
       "      <th>G3</th>\n",
       "      <td>-0.106505</td>\n",
       "      <td>0.240151</td>\n",
       "      <td>0.211800</td>\n",
       "      <td>-0.127173</td>\n",
       "      <td>0.249789</td>\n",
       "      <td>-0.393316</td>\n",
       "      <td>0.063361</td>\n",
       "      <td>-0.122705</td>\n",
       "      <td>-0.087641</td>\n",
       "      <td>-0.204719</td>\n",
       "      <td>-0.176619</td>\n",
       "      <td>-0.098851</td>\n",
       "      <td>-0.091379</td>\n",
       "      <td>0.826387</td>\n",
       "      <td>0.918548</td>\n",
       "      <td>1.000000</td>\n",
       "    </tr>\n",
       "  </tbody>\n",
       "</table>\n",
       "</div>"
      ],
      "text/plain": [
       "                 age      Medu      Fedu  traveltime  studytime  failures  \\\n",
       "age         1.000000 -0.107832 -0.121050    0.034490  -0.008415  0.319968   \n",
       "Medu       -0.107832  1.000000  0.647477   -0.265079   0.097006 -0.172210   \n",
       "Fedu       -0.121050  0.647477  1.000000   -0.208288   0.050400 -0.165915   \n",
       "traveltime  0.034490 -0.265079 -0.208288    1.000000  -0.063154  0.097730   \n",
       "studytime  -0.008415  0.097006  0.050400   -0.063154   1.000000 -0.147441   \n",
       "failures    0.319968 -0.172210 -0.165915    0.097730  -0.147441  1.000000   \n",
       "famrel     -0.020559  0.024421  0.020256   -0.009521  -0.004127 -0.062645   \n",
       "freetime   -0.004910 -0.019686  0.006841    0.000937  -0.068829  0.108995   \n",
       "goout       0.112805  0.009536  0.027690    0.057454  -0.075442  0.045078   \n",
       "Dalc        0.134768 -0.007018  0.000061    0.092824  -0.137585  0.105949   \n",
       "Walc        0.086357 -0.019766  0.038445    0.057007  -0.214925  0.082266   \n",
       "health     -0.008750  0.004614  0.044910   -0.048261  -0.056433  0.035588   \n",
       "absences    0.149998 -0.008577  0.029859   -0.008149  -0.118389  0.122779   \n",
       "G1         -0.174322  0.260472  0.217501   -0.154120   0.260875 -0.384210   \n",
       "G2         -0.107119  0.264035  0.225139   -0.154489   0.240498 -0.385782   \n",
       "G3         -0.106505  0.240151  0.211800   -0.127173   0.249789 -0.393316   \n",
       "\n",
       "              famrel  freetime     goout      Dalc      Walc    health  \\\n",
       "age        -0.020559 -0.004910  0.112805  0.134768  0.086357 -0.008750   \n",
       "Medu        0.024421 -0.019686  0.009536 -0.007018 -0.019766  0.004614   \n",
       "Fedu        0.020256  0.006841  0.027690  0.000061  0.038445  0.044910   \n",
       "traveltime -0.009521  0.000937  0.057454  0.092824  0.057007 -0.048261   \n",
       "studytime  -0.004127 -0.068829 -0.075442 -0.137585 -0.214925 -0.056433   \n",
       "failures   -0.062645  0.108995  0.045078  0.105949  0.082266  0.035588   \n",
       "famrel      1.000000  0.129216  0.089707 -0.075767 -0.093511  0.109559   \n",
       "freetime    0.129216  1.000000  0.346352  0.109904  0.120244  0.084526   \n",
       "goout       0.089707  0.346352  1.000000  0.245126  0.388680 -0.015741   \n",
       "Dalc       -0.075767  0.109904  0.245126  1.000000  0.616561  0.059067   \n",
       "Walc       -0.093511  0.120244  0.388680  0.616561  1.000000  0.114988   \n",
       "health      0.109559  0.084526 -0.015741  0.059067  0.114988  1.000000   \n",
       "absences   -0.089534 -0.018716  0.085374  0.172952  0.156373 -0.030235   \n",
       "G1          0.048795 -0.094497 -0.074053 -0.195171 -0.155649 -0.051647   \n",
       "G2          0.089588 -0.106678 -0.079469 -0.189480 -0.164852 -0.082179   \n",
       "G3          0.063361 -0.122705 -0.087641 -0.204719 -0.176619 -0.098851   \n",
       "\n",
       "            absences        G1        G2        G3  \n",
       "age         0.149998 -0.174322 -0.107119 -0.106505  \n",
       "Medu       -0.008577  0.260472  0.264035  0.240151  \n",
       "Fedu        0.029859  0.217501  0.225139  0.211800  \n",
       "traveltime -0.008149 -0.154120 -0.154489 -0.127173  \n",
       "studytime  -0.118389  0.260875  0.240498  0.249789  \n",
       "failures    0.122779 -0.384210 -0.385782 -0.393316  \n",
       "famrel     -0.089534  0.048795  0.089588  0.063361  \n",
       "freetime   -0.018716 -0.094497 -0.106678 -0.122705  \n",
       "goout       0.085374 -0.074053 -0.079469 -0.087641  \n",
       "Dalc        0.172952 -0.195171 -0.189480 -0.204719  \n",
       "Walc        0.156373 -0.155649 -0.164852 -0.176619  \n",
       "health     -0.030235 -0.051647 -0.082179 -0.098851  \n",
       "absences    1.000000 -0.147149 -0.124745 -0.091379  \n",
       "G1         -0.147149  1.000000  0.864982  0.826387  \n",
       "G2         -0.124745  0.864982  1.000000  0.918548  \n",
       "G3         -0.091379  0.826387  0.918548  1.000000  "
      ]
     },
     "execution_count": 9,
     "metadata": {},
     "output_type": "execute_result"
    }
   ],
   "source": [
    "dataset.corr()"
   ]
  },
  {
   "cell_type": "code",
   "execution_count": 10,
   "id": "e9bc1751",
   "metadata": {},
   "outputs": [
    {
     "data": {
      "text/plain": [
       "<AxesSubplot:>"
      ]
     },
     "execution_count": 10,
     "metadata": {},
     "output_type": "execute_result"
    },
    {
     "data": {
      "image/png": "[encoded data removed]",
      "text/plain": [
       "<Figure size 1296x1296 with 2 Axes>"
      ]
     },
     "metadata": {
      "needs_background": "light"
     },
     "output_type": "display_data"
    }
   ],
   "source": [
    "corr = dataset.corr()\n",
    "plt.figure(figsize=(18,18))\n",
    "sns.heatmap(corr, annot=True, vmin=0, vmax=1)"
   ]
  },
  {
   "cell_type": "markdown",
   "id": "759b88d2",
   "metadata": {},
   "source": [
    "# Data Visualization"
   ]
  },
  {
   "cell_type": "code",
   "execution_count": 11,
   "id": "6222f0ee",
   "metadata": {},
   "outputs": [
    {
     "data": {
      "image/png": "[encoded data removed]",
      "text/plain": [
       "<Figure size 432x288 with 1 Axes>"
      ]
     },
     "metadata": {
      "needs_background": "light"
     },
     "output_type": "display_data"
    }
   ],
   "source": [
    "# visualising the number of male and female in the dataset\n",
    "dataset['sex'].value_counts(normalize = True)\n",
    "dataset['sex'].value_counts(dropna = False).plot.bar(color = 'purple')\n",
    "plt.title(\"Comparison of gender\")\n",
    "plt.xlabel('gender')\n",
    "plt.ylabel('count')\n",
    "plt.show()"
   ]
  },
  {
   "cell_type": "code",
   "execution_count": 12,
   "id": "f62ece21",
   "metadata": {},
   "outputs": [
    {
     "data": {
      "image/png": "[encoded data removed]",
      "text/plain": [
       "<Figure size 432x288 with 1 Axes>"
      ]
     },
     "metadata": {
      "needs_background": "light"
     },
     "output_type": "display_data"
    }
   ],
   "source": [
    "# visualising different level of father's education in the dataset\n",
    "dataset['Fedu'].value_counts(normalize = True)\n",
    "dataset['Fedu'].value_counts(dropna = False).plot.bar(color = 'magenta')\n",
    "plt.title(\"Comparison of Father's education\")\n",
    "plt.xlabel('Fedu')\n",
    "plt.ylabel('count')\n",
    "plt.show()"
   ]
  },
  {
   "cell_type": "code",
   "execution_count": 13,
   "id": "c3fe4f1f",
   "metadata": {},
   "outputs": [
    {
     "data": {
      "image/png": "[encoded data removed]",
      "text/plain": [
       "<Figure size 432x288 with 1 Axes>"
      ]
     },
     "metadata": {
      "needs_background": "light"
     },
     "output_type": "display_data"
    }
   ],
   "source": [
    "# visualising the number of students interested in higher studies\n",
    "dataset['higher'].value_counts(normalize = True)\n",
    "dataset['higher'].value_counts(dropna = False).plot.bar(color = 'yellow')\n",
    "plt.title(\"Comparison of student's wanting higher education\")\n",
    "plt.xlabel('Higher education')\n",
    "plt.ylabel('count')\n",
    "plt.show()"
   ]
  },
  {
   "cell_type": "code",
   "execution_count": 14,
   "id": "644bc0ee",
   "metadata": {},
   "outputs": [
    {
     "data": {
      "image/png": "[encoded data removed]",
      "text/plain": [
       "<Figure size 432x288 with 1 Axes>"
      ]
     },
     "metadata": {
      "needs_background": "light"
     },
     "output_type": "display_data"
    }
   ],
   "source": [
    "# visualising the number of students with access to internet\n",
    "dataset['internet'].value_counts(normalize = True)\n",
    "dataset['internet'].value_counts(dropna = False).plot.bar(color = 'green')\n",
    "plt.title(\"Comparison of student's having internet connection\")\n",
    "plt.xlabel('internet')\n",
    "plt.ylabel('count')\n",
    "plt.show()"
   ]
  },
  {
   "cell_type": "code",
   "execution_count": 15,
   "id": "88cebe1f",
   "metadata": {},
   "outputs": [
    {
     "data": {
      "image/png": "[encoded data removed]",
      "text/plain": [
       "<Figure size 432x288 with 1 Axes>"
      ]
     },
     "metadata": {
      "needs_background": "light"
     },
     "output_type": "display_data"
    }
   ],
   "source": [
    "# visualising the parents status in the dataset\n",
    "dataset['Pstatus'].value_counts(normalize = True)\n",
    "dataset['Pstatus'].value_counts(dropna = False).plot.bar(color = 'indigo')\n",
    "plt.title(\"Comparison of student's parent status\")\n",
    "plt.xlabel('Parent status')\n",
    "plt.ylabel('count')\n",
    "plt.show()"
   ]
  },
  {
   "cell_type": "code",
   "execution_count": 16,
   "id": "e8bb254e",
   "metadata": {},
   "outputs": [
    {
     "data": {
      "image/png": "[encoded data removed]",
      "text/plain": [
       "<Figure size 432x288 with 1 Axes>"
      ]
     },
     "metadata": {
      "needs_background": "light"
     },
     "output_type": "display_data"
    }
   ],
   "source": [
    "# visualising the students health status in the dataset\n",
    "dataset['health'].value_counts(normalize = True)\n",
    "dataset['health'].value_counts(dropna = False).plot.bar(color = 'gold')\n",
    "plt.title(\"Comparison of student's health status\")\n",
    "plt.xlabel('health status')\n",
    "plt.ylabel('count')\n",
    "plt.show()"
   ]
  },
  {
   "cell_type": "code",
   "execution_count": 17,
   "id": "da8cf22b",
   "metadata": {},
   "outputs": [
    {
     "data": {
      "image/png": "[encoded data removed]",
      "text/plain": [
       "<Figure size 432x288 with 1 Axes>"
      ]
     },
     "metadata": {
      "needs_background": "light"
     },
     "output_type": "display_data"
    }
   ],
   "source": [
    "# visualising the students studytime in the dataset\n",
    "dataset['studytime'].value_counts(normalize = True)\n",
    "dataset['studytime'].value_counts(dropna = False).plot.bar(color = 'silver')\n",
    "plt.title(\"Comparison of student's studytime\")\n",
    "plt.xlabel('studytime')\n",
    "plt.ylabel('count')\n",
    "plt.show()"
   ]
  },
  {
   "cell_type": "code",
   "execution_count": 18,
   "id": "ecd2d44d",
   "metadata": {},
   "outputs": [
    {
     "data": {
      "image/png": "[encoded data removed]",
      "text/plain": [
       "<Figure size 432x288 with 1 Axes>"
      ]
     },
     "metadata": {
      "needs_background": "light"
     },
     "output_type": "display_data"
    }
   ],
   "source": [
    "# visualising the G1 marks in the dataset\n",
    "dataset['G1'].value_counts(normalize = True)\n",
    "dataset['G1'].value_counts(dropna = False).plot.bar(color = 'black')\n",
    "plt.title(\"Comparison of first assesment marks\")\n",
    "plt.xlabel('G1 Marks')\n",
    "plt.ylabel('count')\n",
    "plt.show()"
   ]
  },
  {
   "cell_type": "code",
   "execution_count": 19,
   "id": "b8cd2f31",
   "metadata": {},
   "outputs": [
    {
     "data": {
      "image/png": "[encoded data removed]",
      "text/plain": [
       "<Figure size 432x288 with 1 Axes>"
      ]
     },
     "metadata": {
      "needs_background": "light"
     },
     "output_type": "display_data"
    }
   ],
   "source": [
    "# visualising the G2 marks in the dataset\n",
    "dataset['G2'].value_counts(normalize = True)\n",
    "dataset['G2'].value_counts(dropna = False).plot.bar(color = 'red')\n",
    "plt.title(\"Comparison of second assesment marks\")\n",
    "plt.xlabel('G2 Marks')\n",
    "plt.ylabel('count')\n",
    "plt.show()"
   ]
  },
  {
   "cell_type": "code",
   "execution_count": 20,
   "id": "a74ec678",
   "metadata": {},
   "outputs": [
    {
     "data": {
      "text/plain": [
       "<AxesSubplot:xlabel='G3'>"
      ]
     },
     "execution_count": 20,
     "metadata": {},
     "output_type": "execute_result"
    },
    {
     "data": {
      "image/png": "[encoded data removed]",
      "text/plain": [
       "<Figure size 432x432 with 1 Axes>"
      ]
     },
     "metadata": {
      "needs_background": "light"
     },
     "output_type": "display_data"
    }
   ],
   "source": [
    "# G3 vs freetime\n",
    "x = pd.crosstab(dataset['G3'], dataset['freetime'])\n",
    "x.div(x.sum(1).astype(float), axis = 0).plot(kind = 'bar', stacked = True, figsize = (6,6))"
   ]
  },
  {
   "cell_type": "code",
   "execution_count": 21,
   "id": "bc2d832b",
   "metadata": {},
   "outputs": [
    {
     "data": {
      "text/plain": [
       "<AxesSubplot:xlabel='G1'>"
      ]
     },
     "execution_count": 21,
     "metadata": {},
     "output_type": "execute_result"
    },
    {
     "data": {
      "image/png": "[encoded data removed]",
      "text/plain": [
       "<Figure size 432x432 with 1 Axes>"
      ]
     },
     "metadata": {
      "needs_background": "light"
     },
     "output_type": "display_data"
    }
   ],
   "source": [
    "#G1 vs health\n",
    "x = pd.crosstab(dataset['G1'], dataset['health'])\n",
    "x.div(x.sum(1).astype(float), axis = 0).plot(kind = 'bar', stacked = True, figsize = (6,6))"
   ]
  },
  {
   "cell_type": "code",
   "execution_count": 22,
   "id": "c76726ff",
   "metadata": {},
   "outputs": [
    {
     "data": {
      "image/png": "[encoded data removed]",
      "text/plain": [
       "<Figure size 432x288 with 1 Axes>"
      ]
     },
     "metadata": {
      "needs_background": "light"
     },
     "output_type": "display_data"
    }
   ],
   "source": [
    "# comparison of Father's job and paid courses\n",
    "sns.countplot(x = 'Fjob', data = dataset, hue = 'paid', palette = 'dark')\n",
    "plt.show()"
   ]
  },
  {
   "cell_type": "code",
   "execution_count": 23,
   "id": "b0a7679a",
   "metadata": {},
   "outputs": [
    {
     "data": {
      "text/plain": [
       "<AxesSubplot:xlabel='Mjob', ylabel='G3'>"
      ]
     },
     "execution_count": 23,
     "metadata": {},
     "output_type": "execute_result"
    },
    {
     "data": {
      "image/png": "[encoded data removed]",
      "text/plain": [
       "<Figure size 432x288 with 1 Axes>"
      ]
     },
     "metadata": {
      "needs_background": "light"
     },
     "output_type": "display_data"
    }
   ],
   "source": [
    "sns.boxplot(x=\"Fjob\",y=\"G3\", data=dataset)\n",
    "sns.boxplot(x=\"Mjob\",y=\"G3\", data=dataset)"
   ]
  },
  {
   "cell_type": "code",
   "execution_count": 24,
   "id": "56059817",
   "metadata": {},
   "outputs": [
    {
     "data": {
      "text/plain": [
       "<AxesSubplot:xlabel='school', ylabel='G3'>"
      ]
     },
     "execution_count": 24,
     "metadata": {},
     "output_type": "execute_result"
    },
    {
     "data": {
      "image/png": "[encoded data removed]",
      "text/plain": [
       "<Figure size 432x288 with 1 Axes>"
      ]
     },
     "metadata": {
      "needs_background": "light"
     },
     "output_type": "display_data"
    }
   ],
   "source": [
    "sns.boxplot(x=\"school\",y=\"G3\", data=dataset)"
   ]
  },
  {
   "cell_type": "code",
   "execution_count": 25,
   "id": "16996cce",
   "metadata": {},
   "outputs": [
    {
     "data": {
      "text/plain": [
       "<AxesSubplot:xlabel='internet', ylabel='G3'>"
      ]
     },
     "execution_count": 25,
     "metadata": {},
     "output_type": "execute_result"
    },
    {
     "data": {
      "image/png": "[encoded data removed]",
      "text/plain": [
       "<Figure size 432x288 with 1 Axes>"
      ]
     },
     "metadata": {
      "needs_background": "light"
     },
     "output_type": "display_data"
    }
   ],
   "source": [
    "sns.boxplot(x=\"internet\",y=\"G3\", data=dataset)"
   ]
  },
  {
   "cell_type": "code",
   "execution_count": 26,
   "id": "304c448c",
   "metadata": {},
   "outputs": [
    {
     "data": {
      "text/plain": [
       "array([[<AxesSubplot:title={'center':'age'}>,\n",
       "        <AxesSubplot:title={'center':'Medu'}>,\n",
       "        <AxesSubplot:title={'center':'Fedu'}>,\n",
       "        <AxesSubplot:title={'center':'traveltime'}>],\n",
       "       [<AxesSubplot:title={'center':'studytime'}>,\n",
       "        <AxesSubplot:title={'center':'failures'}>,\n",
       "        <AxesSubplot:title={'center':'famrel'}>,\n",
       "        <AxesSubplot:title={'center':'freetime'}>],\n",
       "       [<AxesSubplot:title={'center':'goout'}>,\n",
       "        <AxesSubplot:title={'center':'Dalc'}>,\n",
       "        <AxesSubplot:title={'center':'Walc'}>,\n",
       "        <AxesSubplot:title={'center':'health'}>],\n",
       "       [<AxesSubplot:title={'center':'absences'}>,\n",
       "        <AxesSubplot:title={'center':'G1'}>,\n",
       "        <AxesSubplot:title={'center':'G2'}>,\n",
       "        <AxesSubplot:title={'center':'G3'}>]], dtype=object)"
      ]
     },
     "execution_count": 26,
     "metadata": {},
     "output_type": "execute_result"
    },
    {
     "data": {
      "image/png": "[encoded data removed]",
      "text/plain": [
       "<Figure size 1152x864 with 16 Axes>"
      ]
     },
     "metadata": {
      "needs_background": "light"
     },
     "output_type": "display_data"
    }
   ],
   "source": [
    "dataset.hist(figsize=(16,12), bins=10)"
   ]
  },
  {
   "cell_type": "code",
   "execution_count": 27,
   "id": "ad409a9f",
   "metadata": {},
   "outputs": [
    {
     "data": {
      "image/png": "[encoded data removed]",
      "text/plain": [
       "<Figure size 1800x2160 with 4 Axes>"
      ]
     },
     "metadata": {},
     "output_type": "display_data"
    }
   ],
   "source": [
    "plt.figure(figsize=(25,30))\n",
    "plt.subplots_adjust(left=0.2, bottom=.25, right=1, top=1, wspace=.2, hspace=.21)\n",
    "#gender\n",
    "plt.subplot(141)\n",
    "plt.title('Gender',fontsize = 25)\n",
    "dataset['sex'].value_counts().plot.pie(autopct=\"%1.1f%%\" , colors = ['yellow', 'pink'])\n",
    "#race/ethnicity\n",
    "plt.subplot(142)\n",
    "plt.title(\"Father's job\",fontsize = 25)\n",
    "dataset['Fjob'].value_counts().plot.pie(autopct=\"%1.1f%%\", colors = ['yellow', 'pink','green', 'violet','orange'])\n",
    "#lunch\n",
    "plt.subplot(143)\n",
    "plt.title(\"Mother's job\",fontsize = 25)\n",
    "dataset['Mjob'].value_counts().plot.pie(autopct=\"%1.1f%%\", colors = ['yellow', 'green','pink', 'violet','orange'])\n",
    "#parental level of education\n",
    "plt.subplot(144)\n",
    "plt.title(\"Mother's Education\",fontsize = 25)\n",
    "dataset['Medu'].value_counts().plot.pie(autopct=\"%1.1f%%\", colors = ['yellow', 'pink','green', 'violet','grey'])\n",
    "                                                                                         \n",
    "plt.show()"
   ]
  },
  {
   "cell_type": "markdown",
   "id": "00de59de",
   "metadata": {},
   "source": [
    "# Feature Engineering"
   ]
  },
  {
   "cell_type": "code",
   "execution_count": 28,
   "id": "c6a46cbb",
   "metadata": {},
   "outputs": [],
   "source": [
    "features = dataset[[\"studytime\",\"Medu\",\"Fedu\",\"Mjob\",\"Fjob\",\"health\",\"paid\",\"higher\",\"internet\",\"absences\",\"G1\",\"G2\",\"G3\"]]"
   ]
  },
  {
   "cell_type": "code",
   "execution_count": 29,
   "id": "fe3e73f8",
   "metadata": {},
   "outputs": [
    {
     "data": {
      "text/html": [
       "<div>\n",
       "<style scoped>\n",
       "    .dataframe tbody tr th:only-of-type {\n",
       "        vertical-align: middle;\n",
       "    }\n",
       "\n",
       "    .dataframe tbody tr th {\n",
       "        vertical-align: top;\n",
       "    }\n",
       "\n",
       "    .dataframe thead th {\n",
       "        text-align: right;\n",
       "    }\n",
       "</style>\n",
       "<table border=\"1\" class=\"dataframe\">\n",
       "  <thead>\n",
       "    <tr style=\"text-align: right;\">\n",
       "      <th></th>\n",
       "      <th>studytime</th>\n",
       "      <th>Medu</th>\n",
       "      <th>Fedu</th>\n",
       "      <th>Mjob</th>\n",
       "      <th>Fjob</th>\n",
       "      <th>health</th>\n",
       "      <th>paid</th>\n",
       "      <th>higher</th>\n",
       "      <th>internet</th>\n",
       "      <th>absences</th>\n",
       "      <th>G1</th>\n",
       "      <th>G2</th>\n",
       "      <th>G3</th>\n",
       "    </tr>\n",
       "  </thead>\n",
       "  <tbody>\n",
       "    <tr>\n",
       "      <th>0</th>\n",
       "      <td>2</td>\n",
       "      <td>4</td>\n",
       "      <td>4</td>\n",
       "      <td>at_home</td>\n",
       "      <td>teacher</td>\n",
       "      <td>3</td>\n",
       "      <td>no</td>\n",
       "      <td>yes</td>\n",
       "      <td>no</td>\n",
       "      <td>4</td>\n",
       "      <td>0</td>\n",
       "      <td>11</td>\n",
       "      <td>11</td>\n",
       "    </tr>\n",
       "    <tr>\n",
       "      <th>1</th>\n",
       "      <td>2</td>\n",
       "      <td>1</td>\n",
       "      <td>1</td>\n",
       "      <td>at_home</td>\n",
       "      <td>other</td>\n",
       "      <td>3</td>\n",
       "      <td>no</td>\n",
       "      <td>yes</td>\n",
       "      <td>yes</td>\n",
       "      <td>2</td>\n",
       "      <td>9</td>\n",
       "      <td>11</td>\n",
       "      <td>11</td>\n",
       "    </tr>\n",
       "    <tr>\n",
       "      <th>2</th>\n",
       "      <td>2</td>\n",
       "      <td>1</td>\n",
       "      <td>1</td>\n",
       "      <td>at_home</td>\n",
       "      <td>other</td>\n",
       "      <td>3</td>\n",
       "      <td>no</td>\n",
       "      <td>yes</td>\n",
       "      <td>yes</td>\n",
       "      <td>6</td>\n",
       "      <td>12</td>\n",
       "      <td>13</td>\n",
       "      <td>12</td>\n",
       "    </tr>\n",
       "    <tr>\n",
       "      <th>3</th>\n",
       "      <td>3</td>\n",
       "      <td>4</td>\n",
       "      <td>2</td>\n",
       "      <td>health</td>\n",
       "      <td>services</td>\n",
       "      <td>5</td>\n",
       "      <td>no</td>\n",
       "      <td>yes</td>\n",
       "      <td>yes</td>\n",
       "      <td>0</td>\n",
       "      <td>14</td>\n",
       "      <td>14</td>\n",
       "      <td>14</td>\n",
       "    </tr>\n",
       "    <tr>\n",
       "      <th>4</th>\n",
       "      <td>2</td>\n",
       "      <td>3</td>\n",
       "      <td>3</td>\n",
       "      <td>other</td>\n",
       "      <td>other</td>\n",
       "      <td>5</td>\n",
       "      <td>no</td>\n",
       "      <td>yes</td>\n",
       "      <td>no</td>\n",
       "      <td>0</td>\n",
       "      <td>11</td>\n",
       "      <td>13</td>\n",
       "      <td>13</td>\n",
       "    </tr>\n",
       "  </tbody>\n",
       "</table>\n",
       "</div>"
      ],
      "text/plain": [
       "   studytime  Medu  Fedu     Mjob      Fjob  health paid higher internet  \\\n",
       "0          2     4     4  at_home   teacher       3   no    yes       no   \n",
       "1          2     1     1  at_home     other       3   no    yes      yes   \n",
       "2          2     1     1  at_home     other       3   no    yes      yes   \n",
       "3          3     4     2   health  services       5   no    yes      yes   \n",
       "4          2     3     3    other     other       5   no    yes       no   \n",
       "\n",
       "   absences  G1  G2  G3  \n",
       "0         4   0  11  11  \n",
       "1         2   9  11  11  \n",
       "2         6  12  13  12  \n",
       "3         0  14  14  14  \n",
       "4         0  11  13  13  "
      ]
     },
     "execution_count": 29,
     "metadata": {},
     "output_type": "execute_result"
    }
   ],
   "source": [
    "features.head()"
   ]
  },
  {
   "cell_type": "code",
   "execution_count": 30,
   "id": "82f13ec1",
   "metadata": {},
   "outputs": [
    {
     "name": "stdout",
     "output_type": "stream",
     "text": [
      "<class 'pandas.core.frame.DataFrame'>\n",
      "RangeIndex: 649 entries, 0 to 648\n",
      "Data columns (total 13 columns):\n",
      " #   Column     Non-Null Count  Dtype \n",
      "---  ------     --------------  ----- \n",
      " 0   studytime  649 non-null    int64 \n",
      " 1   Medu       649 non-null    int64 \n",
      " 2   Fedu       649 non-null    int64 \n",
      " 3   Mjob       649 non-null    object\n",
      " 4   Fjob       649 non-null    object\n",
      " 5   health     649 non-null    int64 \n",
      " 6   paid       649 non-null    object\n",
      " 7   higher     649 non-null    object\n",
      " 8   internet   649 non-null    object\n",
      " 9   absences   649 non-null    int64 \n",
      " 10  G1         649 non-null    int64 \n",
      " 11  G2         649 non-null    int64 \n",
      " 12  G3         649 non-null    int64 \n",
      "dtypes: int64(8), object(5)\n",
      "memory usage: 66.0+ KB\n"
     ]
    }
   ],
   "source": [
    "features.info()"
   ]
  },
  {
   "cell_type": "code",
   "execution_count": 31,
   "id": "30f1b143",
   "metadata": {},
   "outputs": [
    {
     "name": "stdout",
     "output_type": "stream",
     "text": [
      "[2 3 1 4]\n",
      "[4 1 3 2 0]\n",
      "[4 1 2 3 0]\n",
      "['at_home' 'health' 'other' 'services' 'teacher']\n",
      "['teacher' 'other' 'services' 'health' 'at_home']\n",
      "[3 5 1 2 4]\n",
      "[ 4  2  6  0 10  8 16 14  1 12 24 22 32 30 21 15  9 18 26  7 11  5 13  3]\n",
      "['no' 'yes']\n",
      "['yes' 'no']\n",
      "['no' 'yes']\n"
     ]
    }
   ],
   "source": [
    "print(features['studytime'].unique())\n",
    "print(features['Medu'].unique())\n",
    "print(features['Fedu'].unique())\n",
    "print(features['Mjob'].unique())\n",
    "print(features['Fjob'].unique())\n",
    "print(features['health'].unique())\n",
    "print(features['absences'].unique())\n",
    "print(features['paid'].unique())\n",
    "print(features['higher'].unique())\n",
    "print(features['internet'].unique())"
   ]
  },
  {
   "cell_type": "code",
   "execution_count": 32,
   "id": "36a0f46b",
   "metadata": {},
   "outputs": [
    {
     "data": {
      "text/html": [
       "<div>\n",
       "<style scoped>\n",
       "    .dataframe tbody tr th:only-of-type {\n",
       "        vertical-align: middle;\n",
       "    }\n",
       "\n",
       "    .dataframe tbody tr th {\n",
       "        vertical-align: top;\n",
       "    }\n",
       "\n",
       "    .dataframe thead th {\n",
       "        text-align: right;\n",
       "    }\n",
       "</style>\n",
       "<table border=\"1\" class=\"dataframe\">\n",
       "  <thead>\n",
       "    <tr style=\"text-align: right;\">\n",
       "      <th></th>\n",
       "      <th>absences</th>\n",
       "      <th>G1</th>\n",
       "      <th>G2</th>\n",
       "      <th>G3</th>\n",
       "      <th>studytime_1</th>\n",
       "      <th>studytime_2</th>\n",
       "      <th>studytime_3</th>\n",
       "      <th>studytime_4</th>\n",
       "      <th>Medu_0</th>\n",
       "      <th>Medu_1</th>\n",
       "      <th>...</th>\n",
       "      <th>health_2</th>\n",
       "      <th>health_3</th>\n",
       "      <th>health_4</th>\n",
       "      <th>health_5</th>\n",
       "      <th>paid_no</th>\n",
       "      <th>paid_yes</th>\n",
       "      <th>higher_no</th>\n",
       "      <th>higher_yes</th>\n",
       "      <th>internet_no</th>\n",
       "      <th>internet_yes</th>\n",
       "    </tr>\n",
       "  </thead>\n",
       "  <tbody>\n",
       "    <tr>\n",
       "      <th>0</th>\n",
       "      <td>4</td>\n",
       "      <td>0</td>\n",
       "      <td>11</td>\n",
       "      <td>11</td>\n",
       "      <td>0</td>\n",
       "      <td>1</td>\n",
       "      <td>0</td>\n",
       "      <td>0</td>\n",
       "      <td>0</td>\n",
       "      <td>0</td>\n",
       "      <td>...</td>\n",
       "      <td>0</td>\n",
       "      <td>1</td>\n",
       "      <td>0</td>\n",
       "      <td>0</td>\n",
       "      <td>1</td>\n",
       "      <td>0</td>\n",
       "      <td>0</td>\n",
       "      <td>1</td>\n",
       "      <td>1</td>\n",
       "      <td>0</td>\n",
       "    </tr>\n",
       "    <tr>\n",
       "      <th>1</th>\n",
       "      <td>2</td>\n",
       "      <td>9</td>\n",
       "      <td>11</td>\n",
       "      <td>11</td>\n",
       "      <td>0</td>\n",
       "      <td>1</td>\n",
       "      <td>0</td>\n",
       "      <td>0</td>\n",
       "      <td>0</td>\n",
       "      <td>1</td>\n",
       "      <td>...</td>\n",
       "      <td>0</td>\n",
       "      <td>1</td>\n",
       "      <td>0</td>\n",
       "      <td>0</td>\n",
       "      <td>1</td>\n",
       "      <td>0</td>\n",
       "      <td>0</td>\n",
       "      <td>1</td>\n",
       "      <td>0</td>\n",
       "      <td>1</td>\n",
       "    </tr>\n",
       "    <tr>\n",
       "      <th>2</th>\n",
       "      <td>6</td>\n",
       "      <td>12</td>\n",
       "      <td>13</td>\n",
       "      <td>12</td>\n",
       "      <td>0</td>\n",
       "      <td>1</td>\n",
       "      <td>0</td>\n",
       "      <td>0</td>\n",
       "      <td>0</td>\n",
       "      <td>1</td>\n",
       "      <td>...</td>\n",
       "      <td>0</td>\n",
       "      <td>1</td>\n",
       "      <td>0</td>\n",
       "      <td>0</td>\n",
       "      <td>1</td>\n",
       "      <td>0</td>\n",
       "      <td>0</td>\n",
       "      <td>1</td>\n",
       "      <td>0</td>\n",
       "      <td>1</td>\n",
       "    </tr>\n",
       "    <tr>\n",
       "      <th>3</th>\n",
       "      <td>0</td>\n",
       "      <td>14</td>\n",
       "      <td>14</td>\n",
       "      <td>14</td>\n",
       "      <td>0</td>\n",
       "      <td>0</td>\n",
       "      <td>1</td>\n",
       "      <td>0</td>\n",
       "      <td>0</td>\n",
       "      <td>0</td>\n",
       "      <td>...</td>\n",
       "      <td>0</td>\n",
       "      <td>0</td>\n",
       "      <td>0</td>\n",
       "      <td>1</td>\n",
       "      <td>1</td>\n",
       "      <td>0</td>\n",
       "      <td>0</td>\n",
       "      <td>1</td>\n",
       "      <td>0</td>\n",
       "      <td>1</td>\n",
       "    </tr>\n",
       "    <tr>\n",
       "      <th>4</th>\n",
       "      <td>0</td>\n",
       "      <td>11</td>\n",
       "      <td>13</td>\n",
       "      <td>13</td>\n",
       "      <td>0</td>\n",
       "      <td>1</td>\n",
       "      <td>0</td>\n",
       "      <td>0</td>\n",
       "      <td>0</td>\n",
       "      <td>0</td>\n",
       "      <td>...</td>\n",
       "      <td>0</td>\n",
       "      <td>0</td>\n",
       "      <td>0</td>\n",
       "      <td>1</td>\n",
       "      <td>1</td>\n",
       "      <td>0</td>\n",
       "      <td>0</td>\n",
       "      <td>1</td>\n",
       "      <td>1</td>\n",
       "      <td>0</td>\n",
       "    </tr>\n",
       "  </tbody>\n",
       "</table>\n",
       "<p>5 rows × 39 columns</p>\n",
       "</div>"
      ],
      "text/plain": [
       "   absences  G1  G2  G3  studytime_1  studytime_2  studytime_3  studytime_4  \\\n",
       "0         4   0  11  11            0            1            0            0   \n",
       "1         2   9  11  11            0            1            0            0   \n",
       "2         6  12  13  12            0            1            0            0   \n",
       "3         0  14  14  14            0            0            1            0   \n",
       "4         0  11  13  13            0            1            0            0   \n",
       "\n",
       "   Medu_0  Medu_1  ...  health_2  health_3  health_4  health_5  paid_no  \\\n",
       "0       0       0  ...         0         1         0         0        1   \n",
       "1       0       1  ...         0         1         0         0        1   \n",
       "2       0       1  ...         0         1         0         0        1   \n",
       "3       0       0  ...         0         0         0         1        1   \n",
       "4       0       0  ...         0         0         0         1        1   \n",
       "\n",
       "   paid_yes  higher_no  higher_yes  internet_no  internet_yes  \n",
       "0         0          0           1            1             0  \n",
       "1         0          0           1            0             1  \n",
       "2         0          0           1            0             1  \n",
       "3         0          0           1            0             1  \n",
       "4         0          0           1            1             0  \n",
       "\n",
       "[5 rows x 39 columns]"
      ]
     },
     "execution_count": 32,
     "metadata": {},
     "output_type": "execute_result"
    }
   ],
   "source": [
    "student = pd.get_dummies(features,columns=[\"studytime\",\"Medu\",\"Fedu\",\"Mjob\",\"Fjob\",\"health\",\"paid\",\"higher\",\"internet\"])\n",
    "student.head()"
   ]
  },
  {
   "cell_type": "code",
   "execution_count": 33,
   "id": "30dbe15f",
   "metadata": {},
   "outputs": [],
   "source": [
    "X = student.drop(\"G3\", axis=1)\n",
    "y = student[\"G3\"]"
   ]
  },
  {
   "cell_type": "code",
   "execution_count": 34,
   "id": "2a19cb35",
   "metadata": {},
   "outputs": [
    {
     "data": {
      "text/html": [
       "<div>\n",
       "<style scoped>\n",
       "    .dataframe tbody tr th:only-of-type {\n",
       "        vertical-align: middle;\n",
       "    }\n",
       "\n",
       "    .dataframe tbody tr th {\n",
       "        vertical-align: top;\n",
       "    }\n",
       "\n",
       "    .dataframe thead th {\n",
       "        text-align: right;\n",
       "    }\n",
       "</style>\n",
       "<table border=\"1\" class=\"dataframe\">\n",
       "  <thead>\n",
       "    <tr style=\"text-align: right;\">\n",
       "      <th></th>\n",
       "      <th>absences</th>\n",
       "      <th>G1</th>\n",
       "      <th>G2</th>\n",
       "      <th>studytime_1</th>\n",
       "      <th>studytime_2</th>\n",
       "      <th>studytime_3</th>\n",
       "      <th>studytime_4</th>\n",
       "      <th>Medu_0</th>\n",
       "      <th>Medu_1</th>\n",
       "      <th>Medu_2</th>\n",
       "      <th>...</th>\n",
       "      <th>health_2</th>\n",
       "      <th>health_3</th>\n",
       "      <th>health_4</th>\n",
       "      <th>health_5</th>\n",
       "      <th>paid_no</th>\n",
       "      <th>paid_yes</th>\n",
       "      <th>higher_no</th>\n",
       "      <th>higher_yes</th>\n",
       "      <th>internet_no</th>\n",
       "      <th>internet_yes</th>\n",
       "    </tr>\n",
       "  </thead>\n",
       "  <tbody>\n",
       "    <tr>\n",
       "      <th>0</th>\n",
       "      <td>4</td>\n",
       "      <td>0</td>\n",
       "      <td>11</td>\n",
       "      <td>0</td>\n",
       "      <td>1</td>\n",
       "      <td>0</td>\n",
       "      <td>0</td>\n",
       "      <td>0</td>\n",
       "      <td>0</td>\n",
       "      <td>0</td>\n",
       "      <td>...</td>\n",
       "      <td>0</td>\n",
       "      <td>1</td>\n",
       "      <td>0</td>\n",
       "      <td>0</td>\n",
       "      <td>1</td>\n",
       "      <td>0</td>\n",
       "      <td>0</td>\n",
       "      <td>1</td>\n",
       "      <td>1</td>\n",
       "      <td>0</td>\n",
       "    </tr>\n",
       "    <tr>\n",
       "      <th>1</th>\n",
       "      <td>2</td>\n",
       "      <td>9</td>\n",
       "      <td>11</td>\n",
       "      <td>0</td>\n",
       "      <td>1</td>\n",
       "      <td>0</td>\n",
       "      <td>0</td>\n",
       "      <td>0</td>\n",
       "      <td>1</td>\n",
       "      <td>0</td>\n",
       "      <td>...</td>\n",
       "      <td>0</td>\n",
       "      <td>1</td>\n",
       "      <td>0</td>\n",
       "      <td>0</td>\n",
       "      <td>1</td>\n",
       "      <td>0</td>\n",
       "      <td>0</td>\n",
       "      <td>1</td>\n",
       "      <td>0</td>\n",
       "      <td>1</td>\n",
       "    </tr>\n",
       "    <tr>\n",
       "      <th>2</th>\n",
       "      <td>6</td>\n",
       "      <td>12</td>\n",
       "      <td>13</td>\n",
       "      <td>0</td>\n",
       "      <td>1</td>\n",
       "      <td>0</td>\n",
       "      <td>0</td>\n",
       "      <td>0</td>\n",
       "      <td>1</td>\n",
       "      <td>0</td>\n",
       "      <td>...</td>\n",
       "      <td>0</td>\n",
       "      <td>1</td>\n",
       "      <td>0</td>\n",
       "      <td>0</td>\n",
       "      <td>1</td>\n",
       "      <td>0</td>\n",
       "      <td>0</td>\n",
       "      <td>1</td>\n",
       "      <td>0</td>\n",
       "      <td>1</td>\n",
       "    </tr>\n",
       "    <tr>\n",
       "      <th>3</th>\n",
       "      <td>0</td>\n",
       "      <td>14</td>\n",
       "      <td>14</td>\n",
       "      <td>0</td>\n",
       "      <td>0</td>\n",
       "      <td>1</td>\n",
       "      <td>0</td>\n",
       "      <td>0</td>\n",
       "      <td>0</td>\n",
       "      <td>0</td>\n",
       "      <td>...</td>\n",
       "      <td>0</td>\n",
       "      <td>0</td>\n",
       "      <td>0</td>\n",
       "      <td>1</td>\n",
       "      <td>1</td>\n",
       "      <td>0</td>\n",
       "      <td>0</td>\n",
       "      <td>1</td>\n",
       "      <td>0</td>\n",
       "      <td>1</td>\n",
       "    </tr>\n",
       "    <tr>\n",
       "      <th>4</th>\n",
       "      <td>0</td>\n",
       "      <td>11</td>\n",
       "      <td>13</td>\n",
       "      <td>0</td>\n",
       "      <td>1</td>\n",
       "      <td>0</td>\n",
       "      <td>0</td>\n",
       "      <td>0</td>\n",
       "      <td>0</td>\n",
       "      <td>0</td>\n",
       "      <td>...</td>\n",
       "      <td>0</td>\n",
       "      <td>0</td>\n",
       "      <td>0</td>\n",
       "      <td>1</td>\n",
       "      <td>1</td>\n",
       "      <td>0</td>\n",
       "      <td>0</td>\n",
       "      <td>1</td>\n",
       "      <td>1</td>\n",
       "      <td>0</td>\n",
       "    </tr>\n",
       "  </tbody>\n",
       "</table>\n",
       "<p>5 rows × 38 columns</p>\n",
       "</div>"
      ],
      "text/plain": [
       "   absences  G1  G2  studytime_1  studytime_2  studytime_3  studytime_4  \\\n",
       "0         4   0  11            0            1            0            0   \n",
       "1         2   9  11            0            1            0            0   \n",
       "2         6  12  13            0            1            0            0   \n",
       "3         0  14  14            0            0            1            0   \n",
       "4         0  11  13            0            1            0            0   \n",
       "\n",
       "   Medu_0  Medu_1  Medu_2  ...  health_2  health_3  health_4  health_5  \\\n",
       "0       0       0       0  ...         0         1         0         0   \n",
       "1       0       1       0  ...         0         1         0         0   \n",
       "2       0       1       0  ...         0         1         0         0   \n",
       "3       0       0       0  ...         0         0         0         1   \n",
       "4       0       0       0  ...         0         0         0         1   \n",
       "\n",
       "   paid_no  paid_yes  higher_no  higher_yes  internet_no  internet_yes  \n",
       "0        1         0          0           1            1             0  \n",
       "1        1         0          0           1            0             1  \n",
       "2        1         0          0           1            0             1  \n",
       "3        1         0          0           1            0             1  \n",
       "4        1         0          0           1            1             0  \n",
       "\n",
       "[5 rows x 38 columns]"
      ]
     },
     "execution_count": 34,
     "metadata": {},
     "output_type": "execute_result"
    }
   ],
   "source": [
    "X.head()"
   ]
  },
  {
   "cell_type": "code",
   "execution_count": 35,
   "id": "78194716",
   "metadata": {},
   "outputs": [
    {
     "data": {
      "text/plain": [
       "(649, 38)"
      ]
     },
     "execution_count": 35,
     "metadata": {},
     "output_type": "execute_result"
    }
   ],
   "source": [
    "X.shape"
   ]
  },
  {
   "cell_type": "code",
   "execution_count": 36,
   "id": "f83d9491",
   "metadata": {},
   "outputs": [
    {
     "data": {
      "text/plain": [
       "0    11\n",
       "1    11\n",
       "2    12\n",
       "3    14\n",
       "4    13\n",
       "Name: G3, dtype: int64"
      ]
     },
     "execution_count": 36,
     "metadata": {},
     "output_type": "execute_result"
    }
   ],
   "source": [
    "y.head()"
   ]
  },
  {
   "cell_type": "markdown",
   "id": "9688b819",
   "metadata": {},
   "source": [
    "# Train Test Split"
   ]
  },
  {
   "cell_type": "code",
   "execution_count": 37,
   "id": "47c3e189",
   "metadata": {},
   "outputs": [],
   "source": [
    "from sklearn.model_selection import train_test_split\n",
    "X_train, X_test, y_train, y_test = train_test_split(X, y, test_size = 0.3, random_state = 4)"
   ]
  },
  {
   "cell_type": "code",
   "execution_count": 38,
   "id": "783f5df8",
   "metadata": {},
   "outputs": [
    {
     "name": "stdout",
     "output_type": "stream",
     "text": [
      "X_train:  (454, 38) y_train:  (454,)\n",
      "X_test:  (195, 38) y_test:  (195,)\n"
     ]
    }
   ],
   "source": [
    "print('X_train: ', X_train.shape, 'y_train: ',y_train.shape)\n",
    "print('X_test: ', X_test.shape, 'y_test: ',y_test.shape)"
   ]
  },
  {
   "cell_type": "code",
   "execution_count": 39,
   "id": "b15429c3",
   "metadata": {},
   "outputs": [],
   "source": [
    "from sklearn.preprocessing import StandardScaler\n",
    "sc = StandardScaler()\n",
    "X_train = sc.fit_transform(X_train)\n",
    "X_test = sc.fit_transform(X_test)"
   ]
  },
  {
   "cell_type": "markdown",
   "id": "01403683",
   "metadata": {},
   "source": [
    "# Model Building"
   ]
  },
  {
   "cell_type": "code",
   "execution_count": 40,
   "id": "1fa05e3c",
   "metadata": {},
   "outputs": [],
   "source": [
    "from sklearn.linear_model import LinearRegression"
   ]
  },
  {
   "cell_type": "code",
   "execution_count": 41,
   "id": "21ffe890",
   "metadata": {},
   "outputs": [
    {
     "data": {
      "text/plain": [
       "LinearRegression()"
      ]
     },
     "execution_count": 41,
     "metadata": {},
     "output_type": "execute_result"
    }
   ],
   "source": [
    "linear_reg = LinearRegression()\n",
    "linear_reg.fit(X_train, y_train)"
   ]
  },
  {
   "cell_type": "code",
   "execution_count": 42,
   "id": "4ded614f",
   "metadata": {},
   "outputs": [],
   "source": [
    "y_predict_linear = linear_reg.predict(X_test)"
   ]
  },
  {
   "cell_type": "code",
   "execution_count": 43,
   "id": "468b8f13",
   "metadata": {},
   "outputs": [
    {
     "name": "stdout",
     "output_type": "stream",
     "text": [
      "Coefficients:  [ 4.81433135e-02  3.54424554e-01  2.55410019e+00  4.04448860e+12\n",
      "  4.32744044e+12  3.09001038e+12  1.77693562e+12 -5.21136659e+12\n",
      " -2.05438336e+13 -2.30147430e+13 -2.07678477e+13 -2.14611011e+13\n",
      " -2.43679351e+12 -9.48354370e+12 -9.93038737e+12 -8.67986807e+12\n",
      " -8.36136596e+12 -2.60506858e+13 -1.64867565e+13 -3.06684433e+13\n",
      " -2.51778893e+13 -1.89007970e+13  4.25042695e+12  3.19458196e+12\n",
      "  8.14365986e+12  7.31286395e+12  3.93838668e+12 -1.28306373e+13\n",
      " -1.16393036e+13 -1.40887757e+13 -1.34230997e+13 -1.74013824e+13\n",
      " -4.75038075e+12 -4.75038075e+12  5.27998365e+12  5.27998365e+12\n",
      "  2.26398482e+13  2.26398482e+13]\n",
      "The Intercept:  11.892863380826265\n"
     ]
    }
   ],
   "source": [
    "print('Coefficients: ', linear_reg.coef_)\n",
    "print('The Intercept: ', linear_reg.intercept_)"
   ]
  },
  {
   "cell_type": "code",
   "execution_count": 44,
   "id": "a493e456",
   "metadata": {},
   "outputs": [
    {
     "name": "stdout",
     "output_type": "stream",
     "text": [
      "Mean absolute error:  5312016755134.801\n",
      "Residual sum of squares(MSE): 4.464264439164456e+25\n",
      "R_2 score: 5.972999872483342e-14\n"
     ]
    }
   ],
   "source": [
    "from sklearn.metrics import r2_score\n",
    "print('Mean absolute error: ' ,np.mean(np.absolute(y_predict_linear - y_test)) )\n",
    "print('Residual sum of squares(MSE):', np.mean((y_predict_linear - y_test)**2))\n",
    "print('R_2 score:' ,r2_score(y_predict_linear, y_test))"
   ]
  },
  {
   "cell_type": "code",
   "execution_count": 45,
   "id": "bc0715cf",
   "metadata": {},
   "outputs": [
    {
     "data": {
      "text/plain": [
       "RandomForestRegressor()"
      ]
     },
     "execution_count": 45,
     "metadata": {},
     "output_type": "execute_result"
    }
   ],
   "source": [
    "from sklearn.ensemble import RandomForestRegressor\n",
    "reg_rf=RandomForestRegressor()\n",
    "reg_rf.fit(X_train,y_train)"
   ]
  },
  {
   "cell_type": "code",
   "execution_count": 46,
   "id": "4d85c871",
   "metadata": {},
   "outputs": [],
   "source": [
    "from sklearn.model_selection import RandomizedSearchCV"
   ]
  },
  {
   "cell_type": "code",
   "execution_count": 47,
   "id": "05408aba",
   "metadata": {},
   "outputs": [],
   "source": [
    "#Hyperparameter tuning\n",
    "#no. of trees in random forest\n",
    "n_estimators=[int(x) for x in np.linspace(start=100,stop=1200,num=12)]\n",
    "#no. of features to consider at every split\n",
    "max_features=['auto','sqrt']\n",
    "#maximum no. of levels in tree\n",
    "max_depth=[int(x) for x in np.linspace(5,30,num=6)]\n",
    "#minimum no. of samples required to split a node\n",
    "min_samples_split=[2,5,10,15,100]\n",
    "#minimum no. of samples required at each leaf node\n",
    "min_samples_leaf=[1,2,5,10]"
   ]
  },
  {
   "cell_type": "code",
   "execution_count": 48,
   "id": "f9aa208f",
   "metadata": {},
   "outputs": [
    {
     "name": "stdout",
     "output_type": "stream",
     "text": [
      "{'n_estimators': [100, 200, 300, 400, 500, 600, 700, 800, 900, 1000, 1100, 1200], 'max_features': ['auto', 'sqrt'], 'max_depth': [5, 10, 15, 20, 25, 30], 'min_samples_split': [2, 5, 10, 15, 100], 'min_samples_leaf': [1, 2, 5, 10]}\n"
     ]
    }
   ],
   "source": [
    "#create random grid\n",
    "random_grid={'n_estimators':n_estimators,\n",
    "              'max_features':max_features,\n",
    "               'max_depth':max_depth,\n",
    "                'min_samples_split':min_samples_split,\n",
    "               'min_samples_leaf':min_samples_leaf}\n",
    "print(random_grid)"
   ]
  },
  {
   "cell_type": "code",
   "execution_count": 49,
   "id": "9264990b",
   "metadata": {},
   "outputs": [],
   "source": [
    "rf_random= RandomizedSearchCV(estimator=reg_rf,param_distributions=random_grid,scoring='neg_mean_squared_error',n_iter=10,cv=5,verbose=2,random_state=42,n_jobs=1)"
   ]
  },
  {
   "cell_type": "code",
   "execution_count": 50,
   "id": "0efa1694",
   "metadata": {},
   "outputs": [
    {
     "name": "stdout",
     "output_type": "stream",
     "text": [
      "Fitting 5 folds for each of 10 candidates, totalling 50 fits\n",
      "[CV] END max_depth=10, max_features=sqrt, min_samples_leaf=5, min_samples_split=5, n_estimators=900; total time=   2.8s\n",
      "[CV] END max_depth=10, max_features=sqrt, min_samples_leaf=5, min_samples_split=5, n_estimators=900; total time=   3.0s\n",
      "[CV] END max_depth=10, max_features=sqrt, min_samples_leaf=5, min_samples_split=5, n_estimators=900; total time=   2.6s\n",
      "[CV] END max_depth=10, max_features=sqrt, min_samples_leaf=5, min_samples_split=5, n_estimators=900; total time=   2.4s\n",
      "[CV] END max_depth=10, max_features=sqrt, min_samples_leaf=5, min_samples_split=5, n_estimators=900; total time=   2.6s\n",
      "[CV] END max_depth=15, max_features=sqrt, min_samples_leaf=2, min_samples_split=10, n_estimators=1100; total time=   4.1s\n",
      "[CV] END max_depth=15, max_features=sqrt, min_samples_leaf=2, min_samples_split=10, n_estimators=1100; total time=   5.1s\n",
      "[CV] END max_depth=15, max_features=sqrt, min_samples_leaf=2, min_samples_split=10, n_estimators=1100; total time=   3.7s\n",
      "[CV] END max_depth=15, max_features=sqrt, min_samples_leaf=2, min_samples_split=10, n_estimators=1100; total time=   3.4s\n",
      "[CV] END max_depth=15, max_features=sqrt, min_samples_leaf=2, min_samples_split=10, n_estimators=1100; total time=   4.2s\n",
      "[CV] END max_depth=15, max_features=auto, min_samples_leaf=5, min_samples_split=100, n_estimators=300; total time=   0.9s\n",
      "[CV] END max_depth=15, max_features=auto, min_samples_leaf=5, min_samples_split=100, n_estimators=300; total time=   1.2s\n",
      "[CV] END max_depth=15, max_features=auto, min_samples_leaf=5, min_samples_split=100, n_estimators=300; total time=   1.4s\n",
      "[CV] END max_depth=15, max_features=auto, min_samples_leaf=5, min_samples_split=100, n_estimators=300; total time=   1.7s\n",
      "[CV] END max_depth=15, max_features=auto, min_samples_leaf=5, min_samples_split=100, n_estimators=300; total time=   2.2s\n",
      "[CV] END max_depth=15, max_features=auto, min_samples_leaf=5, min_samples_split=5, n_estimators=400; total time=   5.4s\n",
      "[CV] END max_depth=15, max_features=auto, min_samples_leaf=5, min_samples_split=5, n_estimators=400; total time=   5.2s\n",
      "[CV] END max_depth=15, max_features=auto, min_samples_leaf=5, min_samples_split=5, n_estimators=400; total time=   2.0s\n",
      "[CV] END max_depth=15, max_features=auto, min_samples_leaf=5, min_samples_split=5, n_estimators=400; total time=   1.8s\n",
      "[CV] END max_depth=15, max_features=auto, min_samples_leaf=5, min_samples_split=5, n_estimators=400; total time=   1.8s\n",
      "[CV] END max_depth=20, max_features=auto, min_samples_leaf=10, min_samples_split=5, n_estimators=700; total time=   2.6s\n",
      "[CV] END max_depth=20, max_features=auto, min_samples_leaf=10, min_samples_split=5, n_estimators=700; total time=   2.7s\n",
      "[CV] END max_depth=20, max_features=auto, min_samples_leaf=10, min_samples_split=5, n_estimators=700; total time=   2.6s\n",
      "[CV] END max_depth=20, max_features=auto, min_samples_leaf=10, min_samples_split=5, n_estimators=700; total time=   2.5s\n",
      "[CV] END max_depth=20, max_features=auto, min_samples_leaf=10, min_samples_split=5, n_estimators=700; total time=   2.5s\n",
      "[CV] END max_depth=25, max_features=sqrt, min_samples_leaf=1, min_samples_split=2, n_estimators=1000; total time=   7.7s\n",
      "[CV] END max_depth=25, max_features=sqrt, min_samples_leaf=1, min_samples_split=2, n_estimators=1000; total time=   5.3s\n",
      "[CV] END max_depth=25, max_features=sqrt, min_samples_leaf=1, min_samples_split=2, n_estimators=1000; total time=   5.9s\n",
      "[CV] END max_depth=25, max_features=sqrt, min_samples_leaf=1, min_samples_split=2, n_estimators=1000; total time=   4.0s\n",
      "[CV] END max_depth=25, max_features=sqrt, min_samples_leaf=1, min_samples_split=2, n_estimators=1000; total time=   3.4s\n",
      "[CV] END max_depth=5, max_features=sqrt, min_samples_leaf=10, min_samples_split=15, n_estimators=1100; total time=   5.6s\n",
      "[CV] END max_depth=5, max_features=sqrt, min_samples_leaf=10, min_samples_split=15, n_estimators=1100; total time=   3.8s\n",
      "[CV] END max_depth=5, max_features=sqrt, min_samples_leaf=10, min_samples_split=15, n_estimators=1100; total time=   5.6s\n",
      "[CV] END max_depth=5, max_features=sqrt, min_samples_leaf=10, min_samples_split=15, n_estimators=1100; total time=   6.2s\n",
      "[CV] END max_depth=5, max_features=sqrt, min_samples_leaf=10, min_samples_split=15, n_estimators=1100; total time=   5.3s\n",
      "[CV] END max_depth=15, max_features=sqrt, min_samples_leaf=1, min_samples_split=15, n_estimators=300; total time=   1.4s\n",
      "[CV] END max_depth=15, max_features=sqrt, min_samples_leaf=1, min_samples_split=15, n_estimators=300; total time=   1.1s\n",
      "[CV] END max_depth=15, max_features=sqrt, min_samples_leaf=1, min_samples_split=15, n_estimators=300; total time=   1.3s\n",
      "[CV] END max_depth=15, max_features=sqrt, min_samples_leaf=1, min_samples_split=15, n_estimators=300; total time=   1.1s\n",
      "[CV] END max_depth=15, max_features=sqrt, min_samples_leaf=1, min_samples_split=15, n_estimators=300; total time=   1.1s\n",
      "[CV] END max_depth=5, max_features=sqrt, min_samples_leaf=2, min_samples_split=10, n_estimators=700; total time=   2.5s\n",
      "[CV] END max_depth=5, max_features=sqrt, min_samples_leaf=2, min_samples_split=10, n_estimators=700; total time=   3.3s\n",
      "[CV] END max_depth=5, max_features=sqrt, min_samples_leaf=2, min_samples_split=10, n_estimators=700; total time=   2.6s\n",
      "[CV] END max_depth=5, max_features=sqrt, min_samples_leaf=2, min_samples_split=10, n_estimators=700; total time=   2.0s\n",
      "[CV] END max_depth=5, max_features=sqrt, min_samples_leaf=2, min_samples_split=10, n_estimators=700; total time=   3.0s\n",
      "[CV] END max_depth=20, max_features=auto, min_samples_leaf=1, min_samples_split=15, n_estimators=700; total time=   3.4s\n",
      "[CV] END max_depth=20, max_features=auto, min_samples_leaf=1, min_samples_split=15, n_estimators=700; total time=   3.0s\n",
      "[CV] END max_depth=20, max_features=auto, min_samples_leaf=1, min_samples_split=15, n_estimators=700; total time=   2.6s\n",
      "[CV] END max_depth=20, max_features=auto, min_samples_leaf=1, min_samples_split=15, n_estimators=700; total time=   3.0s\n",
      "[CV] END max_depth=20, max_features=auto, min_samples_leaf=1, min_samples_split=15, n_estimators=700; total time=   3.3s\n"
     ]
    },
    {
     "data": {
      "text/plain": [
       "RandomizedSearchCV(cv=5, estimator=RandomForestRegressor(), n_jobs=1,\n",
       "                   param_distributions={'max_depth': [5, 10, 15, 20, 25, 30],\n",
       "                                        'max_features': ['auto', 'sqrt'],\n",
       "                                        'min_samples_leaf': [1, 2, 5, 10],\n",
       "                                        'min_samples_split': [2, 5, 10, 15,\n",
       "                                                              100],\n",
       "                                        'n_estimators': [100, 200, 300, 400,\n",
       "                                                         500, 600, 700, 800,\n",
       "                                                         900, 1000, 1100,\n",
       "                                                         1200]},\n",
       "                   random_state=42, scoring='neg_mean_squared_error',\n",
       "                   verbose=2)"
      ]
     },
     "execution_count": 50,
     "metadata": {},
     "output_type": "execute_result"
    }
   ],
   "source": [
    "rf_random.fit(X_train,y_train)"
   ]
  },
  {
   "cell_type": "code",
   "execution_count": 51,
   "id": "b5d43e35",
   "metadata": {},
   "outputs": [],
   "source": [
    "prediction=rf_random.predict(X_test)"
   ]
  },
  {
   "cell_type": "code",
   "execution_count": 52,
   "id": "5c7dcd55",
   "metadata": {},
   "outputs": [
    {
     "data": {
      "text/plain": [
       "array([14.4710417 , 15.54031256, 10.4340591 , 17.63696416, 11.40001678,\n",
       "        9.74576098, 12.66039576, 11.02404056, 12.56381502, 10.44765173,\n",
       "       11.15982672, 11.31970538, 10.84463626, 10.51820246, 15.44898447,\n",
       "       15.23511834, 14.94320555, 15.38321811, 12.8089682 , 11.48432099,\n",
       "        9.74776464,  2.45448096, 17.58264334, 10.47405553, 11.22710939,\n",
       "       12.90401571, 15.47044571, 12.78857369, 13.27590394, 10.48454527,\n",
       "       17.63193929, 17.35634719, 10.59888879, 15.7256875 , 12.94295088,\n",
       "        9.54501267,  7.51686303, 11.24162185, 10.46883937,  9.12916003,\n",
       "       12.53888792, 15.64998506, 12.69076012, 17.46916387, 12.92720865,\n",
       "       10.14915668, 11.29741538, 15.23861299, 11.10997967,  6.78017754,\n",
       "       13.02249369, 11.1745035 , 10.33060673, 12.86083525, 12.84523523,\n",
       "       15.14365725, 13.06569095, 11.57807553, 11.33264616, 12.96934515,\n",
       "       15.21747303, 16.13557942, 10.58086667, 15.95697972, 10.89526322,\n",
       "        9.74596398,  9.44392349, 12.87765674,  9.87000956, 11.16877232,\n",
       "       15.7870207 , 15.18632502,  2.01018087,  7.24809824, 13.34971922,\n",
       "        9.14031237, 17.48835739, 12.88004993, 14.1317713 , 10.57355829,\n",
       "       12.81686447, 15.40752713, 12.8278791 , 12.89141853, 12.92532268,\n",
       "        7.95111773, 12.86792319,  9.20665955, 12.69284551, 12.97299102,\n",
       "       10.05657492, 11.46686206, 16.2889271 , 11.43174114, 13.22625755,\n",
       "       13.28972342,  1.96691302,  7.03712715, 13.32128812, 10.52164039,\n",
       "        8.95318703, 13.21447495, 11.37291294, 10.50857969, 17.52198984,\n",
       "        3.09136879, 16.03260238, 11.62774249, 12.09998477, 10.19473989,\n",
       "       17.60289093, 10.57052933,  8.62015498, 11.32161028, 10.55802621,\n",
       "        2.80790208, 10.19173235,  7.3831921 ,  7.66545357, 15.15588633,\n",
       "        8.84518916, 12.7396151 ,  9.39742308, 11.45407606, 11.56107007,\n",
       "       12.78586553, 15.37547198, 15.41261226, 15.20357051, 10.4938894 ,\n",
       "       11.06903915, 11.28556089, 15.59927601,  9.19696002,  7.94101181,\n",
       "       13.43614414, 10.46972618, 13.08698021,  9.49575097, 15.23323472,\n",
       "       13.20273477,  7.38184858, 12.3487553 , 12.95366884,  3.03601255,\n",
       "       12.91500295, 13.00596513, 13.297716  ,  7.40600861, 11.11507848,\n",
       "       11.20324406,  9.7449923 , 10.47242828, 17.41039327,  9.90193952,\n",
       "       13.08061261, 15.03080057, 16.11883161,  9.96418494, 11.29251658,\n",
       "       15.08108799, 10.99960436, 11.59220076, 16.05614586, 15.21554229,\n",
       "       17.47123842,  8.31460359, 14.84956296, 10.72067047, 11.24301922,\n",
       "       10.07900364, 11.66453712, 12.86133917,  8.50178062, 12.83352977,\n",
       "       15.70852179, 11.09927904, 13.25879855, 11.55445862, 16.21066634,\n",
       "       11.13729255, 10.72903597,  9.27118815, 10.16783901,  9.46955875,\n",
       "       12.85698219, 17.47031664, 12.91464501, 10.21801319, 17.43127563,\n",
       "       13.40748233, 17.60482862,  9.72208036, 13.24284647,  8.21325361])"
      ]
     },
     "execution_count": 52,
     "metadata": {},
     "output_type": "execute_result"
    }
   ],
   "source": [
    "prediction"
   ]
  },
  {
   "cell_type": "code",
   "execution_count": 53,
   "id": "a1b14b4c",
   "metadata": {},
   "outputs": [
    {
     "name": "stderr",
     "output_type": "stream",
     "text": [
      "C:\\ProgramData\\Anaconda3\\lib\\site-packages\\seaborn\\distributions.py:2557: FutureWarning: `distplot` is a deprecated function and will be removed in a future version. Please adapt your code to use either `displot` (a figure-level function with similar flexibility) or `histplot` (an axes-level function for histograms).\n",
      "  warnings.warn(msg, FutureWarning)\n"
     ]
    },
    {
     "data": {
      "image/png": "[encoded data removed]",
      "text/plain": [
       "<Figure size 432x288 with 1 Axes>"
      ]
     },
     "metadata": {
      "needs_background": "light"
     },
     "output_type": "display_data"
    }
   ],
   "source": [
    "sns.distplot(y_test-prediction)\n",
    "plt.show()"
   ]
  },
  {
   "cell_type": "code",
   "execution_count": 54,
   "id": "8a0a0da7",
   "metadata": {},
   "outputs": [
    {
     "data": {
      "text/plain": [
       "0.9793585477419403"
      ]
     },
     "execution_count": 54,
     "metadata": {},
     "output_type": "execute_result"
    }
   ],
   "source": [
    "reg_rf.score(X_train,y_train)"
   ]
  },
  {
   "cell_type": "code",
   "execution_count": 55,
   "id": "577652bc",
   "metadata": {},
   "outputs": [
    {
     "data": {
      "text/plain": [
       "0.8107183755036331"
      ]
     },
     "execution_count": 55,
     "metadata": {},
     "output_type": "execute_result"
    }
   ],
   "source": [
    "reg_rf.score(X_test,y_test)"
   ]
  },
  {
   "cell_type": "code",
   "execution_count": 56,
   "id": "8255b3c5",
   "metadata": {},
   "outputs": [
    {
     "data": {
      "text/plain": [
       "0.8209645267383524"
      ]
     },
     "execution_count": 56,
     "metadata": {},
     "output_type": "execute_result"
    }
   ],
   "source": [
    "from sklearn import metrics \n",
    "metrics.r2_score(y_test,prediction)"
   ]
  },
  {
   "cell_type": "code",
   "execution_count": 57,
   "id": "0c0f39d0",
   "metadata": {},
   "outputs": [],
   "source": [
    "import pickle \n",
    "#open a file where you want to store the data\n",
    "file=open('stu_perfo_modl.pkl','wb')\n",
    "\n",
    "#dump information to that file\n",
    "pickle.dump(rf_random,file)"
   ]
  },
  {
   "cell_type": "code",
   "execution_count": null,
   "id": "4dbf3d3f",
   "metadata": {},
   "outputs": [],
   "source": []
  },
  {
   "cell_type": "code",
   "execution_count": null,
   "id": "c3a0318b",
   "metadata": {},
   "outputs": [],
   "source": []
  }
 ],
 "metadata": {
  "kernelspec": {
   "display_name": "Python 3",
   "language": "python",
   "name": "python3"
  },
  "language_info": {
   "codemirror_mode": {
    "name": "ipython",
    "version": 3
   },
   "file_extension": ".py",
   "mimetype": "text/x-python",
   "name": "python",
   "nbconvert_exporter": "python",
   "pygments_lexer": "ipython3",
   "version": "3.8.8"
  }
 },
 "nbformat": 4,
 "nbformat_minor": 5
}
